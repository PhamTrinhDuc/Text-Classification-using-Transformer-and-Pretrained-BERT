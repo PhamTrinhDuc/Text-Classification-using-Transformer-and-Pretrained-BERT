{
  "cells": [
    {
      "cell_type": "markdown",
      "metadata": {
        "id": "view-in-github",
        "colab_type": "text"
      },
      "source": [
        "<a href=\"https://colab.research.google.com/github/PhamTrinhDuc/Text-Classification-using-Transformer-and-Pretrained-BERT/blob/main/Vision_Transformer.ipynb\" target=\"_parent\"><img src=\"https://colab.research.google.com/assets/colab-badge.svg\" alt=\"Open In Colab\"/></a>"
      ]
    },
    {
      "cell_type": "markdown",
      "metadata": {
        "id": "3KXOI_6AQiRo"
      },
      "source": [
        "#AI VIET NAM\n",
        "#Transformer Applications\n",
        "# Vision Transformer"
      ]
    },
    {
      "cell_type": "code",
      "source": [],
      "metadata": {
        "id": "OXkyfOXHf3zz"
      },
      "execution_count": null,
      "outputs": []
    },
    {
      "cell_type": "markdown",
      "metadata": {
        "id": "aYpfndQ-MlPq"
      },
      "source": [
        "#**1. Image Classification using Vision Transformer**"
      ]
    },
    {
      "cell_type": "markdown",
      "metadata": {
        "id": "QIs4yNczMrAU"
      },
      "source": [
        "### **1.1. Load Dataset**"
      ]
    },
    {
      "cell_type": "code",
      "execution_count": null,
      "metadata": {
        "id": "K9NCXLsWNv_M"
      },
      "outputs": [],
      "source": [
        "import torch\n",
        "import torchvision.transforms as transforms\n",
        "from torch.utils.data import DataLoader, random_split\n",
        "import torch.optim as optim\n",
        "from torchvision.datasets import ImageFolder\n",
        "from torch import nn\n",
        "import math\n",
        "import os"
      ]
    },
    {
      "cell_type": "code",
      "execution_count": null,
      "metadata": {
        "colab": {
          "base_uri": "https://localhost:8080/"
        },
        "id": "PTps3X79nXY7",
        "outputId": "93597e58-9f0c-46fa-f25e-d403d20ed83b"
      },
      "outputs": [
        {
          "output_type": "stream",
          "name": "stdout",
          "text": [
            "Failed to retrieve file url:\n",
            "\n",
            "\tCannot retrieve the public link of the file. You may need to change\n",
            "\tthe permission to 'Anyone with the link', or have had many accesses.\n",
            "\n",
            "You may still be able to access the file from the browser:\n",
            "\n",
            "\thttps://drive.google.com/uc?id=11Buzytn4vIh4x_Oqz8MY29JMMdIqSzj-\n",
            "\n",
            "but Gdown can't. Please check connections and permissions.\n"
          ]
        }
      ],
      "source": [
        "!gdown 11Buzytn4vIh4x_Oqz8MY29JMMdIqSzj-"
      ]
    },
    {
      "cell_type": "code",
      "source": [
        "from google.colab import drive\n",
        "drive.mount('/content/drive')"
      ],
      "metadata": {
        "colab": {
          "base_uri": "https://localhost:8080/"
        },
        "id": "fnHAWV_Hf6BB",
        "outputId": "47bf222d-007a-46de-8974-17e3b8636545"
      },
      "execution_count": null,
      "outputs": [
        {
          "output_type": "stream",
          "name": "stdout",
          "text": [
            "Mounted at /content/drive\n"
          ]
        }
      ]
    },
    {
      "cell_type": "code",
      "execution_count": null,
      "metadata": {
        "id": "FhOLaY0TndVo"
      },
      "outputs": [],
      "source": [
        "!unzip /content/drive/MyDrive/dataset/flower_photos.zip"
      ]
    },
    {
      "cell_type": "code",
      "execution_count": null,
      "metadata": {
        "id": "efjNGLS-dQJg"
      },
      "outputs": [],
      "source": [
        "data_patch = \"./flower_photos\""
      ]
    },
    {
      "cell_type": "code",
      "execution_count": null,
      "metadata": {
        "id": "uhKZbMYhdUM1"
      },
      "outputs": [],
      "source": [
        "dataset = ImageFolder(root=data_patch)"
      ]
    },
    {
      "cell_type": "code",
      "execution_count": null,
      "metadata": {
        "id": "NxIuHxkcdwUp",
        "colab": {
          "base_uri": "https://localhost:8080/"
        },
        "outputId": "c512d0c8-ecbd-4f44-ef43-52fa38a920db"
      },
      "outputs": [
        {
          "output_type": "stream",
          "name": "stdout",
          "text": [
            "3670\n"
          ]
        }
      ],
      "source": [
        "num_samples = len(dataset)\n",
        "classes = dataset.classes\n",
        "num_classes = len(dataset.classes)\n",
        "print(num_samples)"
      ]
    },
    {
      "cell_type": "code",
      "execution_count": null,
      "metadata": {
        "id": "9r9yAIXgdXe8"
      },
      "outputs": [],
      "source": [
        "TRAIN_RATIO, VALID_RATIO = 0.8, 0.1\n",
        "\n",
        "n_train_examples = int(num_samples * TRAIN_RATIO)\n",
        "n_valid_examples = int(num_samples * VALID_RATIO)\n",
        "n_test_examples = num_samples - n_train_examples - n_valid_examples"
      ]
    },
    {
      "cell_type": "code",
      "execution_count": null,
      "metadata": {
        "id": "xGO-N92UduMd"
      },
      "outputs": [],
      "source": [
        "train_dataset, valid_dataset, test_dataset = random_split(\n",
        "    dataset,\n",
        "    [n_train_examples, n_valid_examples, n_test_examples]\n",
        ")"
      ]
    },
    {
      "cell_type": "code",
      "source": [
        "train_dataset[0]"
      ],
      "metadata": {
        "id": "o-m0ThN-goGL",
        "outputId": "21660746-60b1-4ad6-ba1d-dfe6f1ecc025",
        "colab": {
          "base_uri": "https://localhost:8080/"
        }
      },
      "execution_count": null,
      "outputs": [
        {
          "output_type": "execute_result",
          "data": {
            "text/plain": [
              "(<PIL.Image.Image image mode=RGB size=320x238>, 3)"
            ]
          },
          "metadata": {},
          "execution_count": 12
        }
      ]
    },
    {
      "cell_type": "markdown",
      "metadata": {
        "id": "Ezc-YlUIoTQV"
      },
      "source": [
        "### **1.2. Preprocessing**"
      ]
    },
    {
      "cell_type": "code",
      "execution_count": null,
      "metadata": {
        "id": "vfoHFRl3d9Dz"
      },
      "outputs": [],
      "source": [
        "# resize + convert to tensor\n",
        "IMG_SIZE = 224\n",
        "\n",
        "train_transforms = transforms.Compose([\n",
        "    transforms.Resize((IMG_SIZE, IMG_SIZE)),\n",
        "    transforms.RandomHorizontalFlip(),\n",
        "    transforms.RandomRotation(0.2),\n",
        "    transforms.ToTensor(),\n",
        "    transforms.Normalize([0.5, 0.5, 0.5], [0.5, 0.5, 0.5])\n",
        "])\n",
        "\n",
        "test_transforms = transforms.Compose([\n",
        "    transforms.Resize((IMG_SIZE, IMG_SIZE)),\n",
        "    transforms.ToTensor(),\n",
        "    transforms.Normalize([0.5, 0.5, 0.5], [0.5, 0.5, 0.5])\n",
        "])"
      ]
    },
    {
      "cell_type": "code",
      "execution_count": null,
      "metadata": {
        "id": "4ZQF1_s7eLX9"
      },
      "outputs": [],
      "source": [
        "train_dataset.dataset.transform = train_transforms\n",
        "valid_dataset.dataset.transform = test_transforms\n",
        "test_dataset.dataset.transform = test_transforms"
      ]
    },
    {
      "cell_type": "markdown",
      "metadata": {
        "id": "ZqYzCCFlogdw"
      },
      "source": [
        "### **1.3. Dataloader**"
      ]
    },
    {
      "cell_type": "code",
      "execution_count": null,
      "metadata": {
        "id": "QktT-Sz5eNY0"
      },
      "outputs": [],
      "source": [
        "BATCH_SIZE = 4\n",
        "\n",
        "train_loader = DataLoader(\n",
        "    train_dataset,\n",
        "    shuffle=True,\n",
        "    batch_size=BATCH_SIZE\n",
        ")\n",
        "\n",
        "val_loader = DataLoader(\n",
        "    valid_dataset,\n",
        "    batch_size=BATCH_SIZE\n",
        ")\n",
        "\n",
        "test_loader = DataLoader(\n",
        "    test_dataset,\n",
        "    batch_size=BATCH_SIZE\n",
        ")"
      ]
    },
    {
      "cell_type": "markdown",
      "metadata": {
        "id": "ozuMx9DComUH"
      },
      "source": [
        "### **1.4. Modeling**"
      ]
    },
    {
      "cell_type": "code",
      "execution_count": null,
      "metadata": {
        "id": "fKQ15ackSHGL"
      },
      "outputs": [],
      "source": [
        "class TransformerEncoder(nn.Module):\n",
        "    def __init__(self, embed_dim, num_heads, ff_dim, dropout=0.1):\n",
        "        super().__init__()\n",
        "        self.attn = nn.MultiheadAttention(\n",
        "            embed_dim=embed_dim,\n",
        "            num_heads=num_heads,\n",
        "            batch_first=True\n",
        "        )\n",
        "        self.ffn = nn.Sequential(\n",
        "            nn.Linear(in_features=embed_dim, out_features=ff_dim, bias=True),\n",
        "            nn.ReLU(),\n",
        "            nn.Linear(in_features=ff_dim, out_features=embed_dim, bias=True)\n",
        "        )\n",
        "        self.layernorm_1 = nn.LayerNorm(normalized_shape=embed_dim, eps=1e-6)\n",
        "        self.layernorm_2 = nn.LayerNorm(normalized_shape=embed_dim, eps=1e-6)\n",
        "        self.dropout_1 = nn.Dropout(p=dropout)\n",
        "        self.dropout_2 = nn.Dropout(p=dropout)\n",
        "\n",
        "    def forward(self, query, key, value):\n",
        "        attn_output, _ = self.attn(query, key, value)\n",
        "        attn_output = self.dropout_1(attn_output)\n",
        "        out_1 = self.layernorm_1(query + attn_output)\n",
        "        ffn_output = self.ffn(out_1)\n",
        "        ffn_output = self.dropout_2(ffn_output)\n",
        "        out_2 = self.layernorm_2(out_1 + ffn_output)\n",
        "        return out_2\n",
        "\n",
        "class PatchPositionEmbedding(nn.Module):\n",
        "    def __init__(self, image_size=224, embed_dim=512, patch_size=16, device='cpu'):\n",
        "        super().__init__()\n",
        "        self.conv1 = nn.Conv2d(in_channels=3, out_channels=embed_dim, kernel_size=patch_size, stride=patch_size, bias=False)\n",
        "        scale = embed_dim ** -0.5\n",
        "        self.positional_embedding = nn.Parameter(scale * torch.randn((image_size // patch_size) ** 2, embed_dim))\n",
        "        self.device = device\n",
        "\n",
        "    def forward(self, x):\n",
        "        x = self.conv1(x) # shape = [*, width, grid, grid]\n",
        "        x = x.reshape(x.shape[0], x.shape[1], -1)  # shape = [*, width, grid ** 2]\n",
        "        x = x.permute(0, 2, 1)  # shape = [*, grid ** 2, width]\n",
        "\n",
        "        x = x + self.positional_embedding.to(self.device)\n",
        "        return x"
      ]
    },
    {
      "cell_type": "code",
      "execution_count": null,
      "metadata": {
        "id": "swYkm_22o4J1"
      },
      "outputs": [],
      "source": [
        "class VisionTransformerCls(nn.Module):\n",
        "    def __init__(self,\n",
        "                 image_size, embed_dim, num_heads, ff_dim,\n",
        "                 dropout=0.1, device='cpu', num_classes = 10, patch_size=16\n",
        "        ):\n",
        "        super().__init__()\n",
        "        self.embd_layer = PatchPositionEmbedding(\n",
        "            image_size=image_size, embed_dim=embed_dim, patch_size=patch_size, device=device\n",
        "        )\n",
        "        self.transformer_layer = TransformerEncoder(\n",
        "            embed_dim, num_heads, ff_dim, dropout\n",
        "        )\n",
        "        self.fc1 = nn.Linear(in_features=embed_dim, out_features=20)\n",
        "        self.fc2 = nn.Linear(in_features=20, out_features=num_classes)\n",
        "        self.dropout = nn.Dropout(p=dropout)\n",
        "        self.relu = nn.ReLU()\n",
        "    def forward(self, x):\n",
        "        output = self.embd_layer(x)\n",
        "        output = self.transformer_layer(output, output, output)\n",
        "        output = output[:, 0, :]\n",
        "        output = self.dropout(output)\n",
        "        output = self.fc1(output)\n",
        "        output = self.dropout(output)\n",
        "        output = self.fc2(output)\n",
        "        return output"
      ]
    },
    {
      "cell_type": "markdown",
      "metadata": {
        "id": "rTr9zGa6N0pX"
      },
      "source": [
        "### **1.5. Training**"
      ]
    },
    {
      "cell_type": "code",
      "execution_count": null,
      "metadata": {
        "colab": {
          "base_uri": "https://localhost:8080/"
        },
        "id": "MjhEIQw1OpVS",
        "outputId": "f859697c-e0e1-440d-b526-bce7c0a45eae"
      },
      "outputs": [
        {
          "output_type": "stream",
          "name": "stdout",
          "text": [
            "| epoch   1 |    50/  734 batches | accuracy    0.260\n",
            "| epoch   1 |   100/  734 batches | accuracy    0.395\n",
            "| epoch   1 |   150/  734 batches | accuracy    0.400\n",
            "| epoch   1 |   200/  734 batches | accuracy    0.360\n",
            "| epoch   1 |   250/  734 batches | accuracy    0.415\n",
            "| epoch   1 |   300/  734 batches | accuracy    0.395\n",
            "| epoch   1 |   350/  734 batches | accuracy    0.360\n",
            "| epoch   1 |   400/  734 batches | accuracy    0.435\n",
            "| epoch   1 |   450/  734 batches | accuracy    0.375\n",
            "| epoch   1 |   500/  734 batches | accuracy    0.400\n",
            "| epoch   1 |   550/  734 batches | accuracy    0.385\n",
            "| epoch   1 |   600/  734 batches | accuracy    0.445\n",
            "| epoch   1 |   650/  734 batches | accuracy    0.430\n",
            "| epoch   1 |   700/  734 batches | accuracy    0.415\n",
            "-----------------------------------------------------------\n",
            "| End of epoch   1 | Time: 24.93s | Train Accuracy    0.356 | Train Loss    1.404 | Valid Accuracy    0.490 | Valid Loss    1.257 \n",
            "-----------------------------------------------------------\n",
            "| epoch   2 |    50/  734 batches | accuracy    0.490\n",
            "| epoch   2 |   100/  734 batches | accuracy    0.415\n",
            "| epoch   2 |   150/  734 batches | accuracy    0.420\n",
            "| epoch   2 |   200/  734 batches | accuracy    0.480\n",
            "| epoch   2 |   250/  734 batches | accuracy    0.395\n",
            "| epoch   2 |   300/  734 batches | accuracy    0.440\n",
            "| epoch   2 |   350/  734 batches | accuracy    0.495\n",
            "| epoch   2 |   400/  734 batches | accuracy    0.585\n",
            "| epoch   2 |   450/  734 batches | accuracy    0.490\n",
            "| epoch   2 |   500/  734 batches | accuracy    0.520\n",
            "| epoch   2 |   550/  734 batches | accuracy    0.455\n",
            "| epoch   2 |   600/  734 batches | accuracy    0.435\n",
            "| epoch   2 |   650/  734 batches | accuracy    0.410\n",
            "| epoch   2 |   700/  734 batches | accuracy    0.475\n",
            "-----------------------------------------------------------\n",
            "| End of epoch   2 | Time: 20.15s | Train Accuracy    0.439 | Train Loss    1.235 | Valid Accuracy    0.474 | Valid Loss    1.225 \n",
            "-----------------------------------------------------------\n",
            "| epoch   3 |    50/  734 batches | accuracy    0.520\n",
            "| epoch   3 |   100/  734 batches | accuracy    0.535\n",
            "| epoch   3 |   150/  734 batches | accuracy    0.495\n",
            "| epoch   3 |   200/  734 batches | accuracy    0.515\n",
            "| epoch   3 |   250/  734 batches | accuracy    0.550\n",
            "| epoch   3 |   300/  734 batches | accuracy    0.520\n",
            "| epoch   3 |   350/  734 batches | accuracy    0.485\n",
            "| epoch   3 |   400/  734 batches | accuracy    0.520\n",
            "| epoch   3 |   450/  734 batches | accuracy    0.545\n",
            "| epoch   3 |   500/  734 batches | accuracy    0.485\n",
            "| epoch   3 |   550/  734 batches | accuracy    0.545\n",
            "| epoch   3 |   600/  734 batches | accuracy    0.530\n",
            "| epoch   3 |   650/  734 batches | accuracy    0.545\n",
            "| epoch   3 |   700/  734 batches | accuracy    0.510\n",
            "-----------------------------------------------------------\n",
            "| End of epoch   3 | Time: 19.33s | Train Accuracy    0.515 | Train Loss    1.152 | Valid Accuracy    0.534 | Valid Loss    1.139 \n",
            "-----------------------------------------------------------\n",
            "| epoch   4 |    50/  734 batches | accuracy    0.598\n",
            "| epoch   4 |   100/  734 batches | accuracy    0.545\n",
            "| epoch   4 |   150/  734 batches | accuracy    0.525\n",
            "| epoch   4 |   200/  734 batches | accuracy    0.485\n",
            "| epoch   4 |   250/  734 batches | accuracy    0.560\n",
            "| epoch   4 |   300/  734 batches | accuracy    0.550\n",
            "| epoch   4 |   350/  734 batches | accuracy    0.575\n",
            "| epoch   4 |   400/  734 batches | accuracy    0.540\n",
            "| epoch   4 |   450/  734 batches | accuracy    0.580\n",
            "| epoch   4 |   500/  734 batches | accuracy    0.570\n",
            "| epoch   4 |   550/  734 batches | accuracy    0.570\n",
            "| epoch   4 |   600/  734 batches | accuracy    0.500\n",
            "| epoch   4 |   650/  734 batches | accuracy    0.560\n",
            "| epoch   4 |   700/  734 batches | accuracy    0.545\n",
            "-----------------------------------------------------------\n",
            "| End of epoch   4 | Time: 17.86s | Train Accuracy    0.568 | Train Loss    1.087 | Valid Accuracy    0.561 | Valid Loss    1.079 \n",
            "-----------------------------------------------------------\n",
            "| epoch   5 |    50/  734 batches | accuracy    0.603\n",
            "| epoch   5 |   100/  734 batches | accuracy    0.495\n",
            "| epoch   5 |   150/  734 batches | accuracy    0.535\n",
            "| epoch   5 |   200/  734 batches | accuracy    0.505\n",
            "| epoch   5 |   250/  734 batches | accuracy    0.560\n",
            "| epoch   5 |   300/  734 batches | accuracy    0.620\n",
            "| epoch   5 |   350/  734 batches | accuracy    0.585\n",
            "| epoch   5 |   400/  734 batches | accuracy    0.540\n",
            "| epoch   5 |   450/  734 batches | accuracy    0.520\n",
            "| epoch   5 |   500/  734 batches | accuracy    0.565\n",
            "| epoch   5 |   550/  734 batches | accuracy    0.640\n",
            "| epoch   5 |   600/  734 batches | accuracy    0.595\n",
            "| epoch   5 |   650/  734 batches | accuracy    0.580\n",
            "| epoch   5 |   700/  734 batches | accuracy    0.615\n",
            "-----------------------------------------------------------\n",
            "| End of epoch   5 | Time: 19.45s | Train Accuracy    0.576 | Train Loss    1.037 | Valid Accuracy    0.616 | Valid Loss    1.031 \n",
            "-----------------------------------------------------------\n",
            "| epoch   6 |    50/  734 batches | accuracy    0.574\n",
            "| epoch   6 |   100/  734 batches | accuracy    0.595\n",
            "| epoch   6 |   150/  734 batches | accuracy    0.585\n",
            "| epoch   6 |   200/  734 batches | accuracy    0.590\n",
            "| epoch   6 |   250/  734 batches | accuracy    0.570\n",
            "| epoch   6 |   300/  734 batches | accuracy    0.610\n",
            "| epoch   6 |   350/  734 batches | accuracy    0.625\n",
            "| epoch   6 |   400/  734 batches | accuracy    0.600\n",
            "| epoch   6 |   450/  734 batches | accuracy    0.600\n",
            "| epoch   6 |   500/  734 batches | accuracy    0.570\n",
            "| epoch   6 |   550/  734 batches | accuracy    0.635\n",
            "| epoch   6 |   600/  734 batches | accuracy    0.585\n",
            "| epoch   6 |   650/  734 batches | accuracy    0.595\n",
            "| epoch   6 |   700/  734 batches | accuracy    0.640\n",
            "-----------------------------------------------------------\n",
            "| End of epoch   6 | Time: 18.61s | Train Accuracy    0.644 | Train Loss    0.989 | Valid Accuracy    0.569 | Valid Loss    1.053 \n",
            "-----------------------------------------------------------\n",
            "| epoch   7 |    50/  734 batches | accuracy    0.642\n",
            "| epoch   7 |   100/  734 batches | accuracy    0.600\n",
            "| epoch   7 |   150/  734 batches | accuracy    0.585\n",
            "| epoch   7 |   200/  734 batches | accuracy    0.655\n",
            "| epoch   7 |   250/  734 batches | accuracy    0.560\n",
            "| epoch   7 |   300/  734 batches | accuracy    0.565\n",
            "| epoch   7 |   350/  734 batches | accuracy    0.640\n",
            "| epoch   7 |   400/  734 batches | accuracy    0.615\n",
            "| epoch   7 |   450/  734 batches | accuracy    0.540\n",
            "| epoch   7 |   500/  734 batches | accuracy    0.640\n",
            "| epoch   7 |   550/  734 batches | accuracy    0.645\n",
            "| epoch   7 |   600/  734 batches | accuracy    0.610\n",
            "| epoch   7 |   650/  734 batches | accuracy    0.660\n",
            "| epoch   7 |   700/  734 batches | accuracy    0.585\n",
            "-----------------------------------------------------------\n",
            "| End of epoch   7 | Time: 21.51s | Train Accuracy    0.659 | Train Loss    0.955 | Valid Accuracy    0.646 | Valid Loss    0.984 \n",
            "-----------------------------------------------------------\n",
            "| epoch   8 |    50/  734 batches | accuracy    0.657\n",
            "| epoch   8 |   100/  734 batches | accuracy    0.635\n",
            "| epoch   8 |   150/  734 batches | accuracy    0.600\n",
            "| epoch   8 |   200/  734 batches | accuracy    0.655\n",
            "| epoch   8 |   250/  734 batches | accuracy    0.655\n",
            "| epoch   8 |   300/  734 batches | accuracy    0.650\n",
            "| epoch   8 |   350/  734 batches | accuracy    0.665\n",
            "| epoch   8 |   400/  734 batches | accuracy    0.650\n",
            "| epoch   8 |   450/  734 batches | accuracy    0.645\n",
            "| epoch   8 |   500/  734 batches | accuracy    0.620\n",
            "| epoch   8 |   550/  734 batches | accuracy    0.675\n",
            "| epoch   8 |   600/  734 batches | accuracy    0.695\n",
            "| epoch   8 |   650/  734 batches | accuracy    0.635\n",
            "| epoch   8 |   700/  734 batches | accuracy    0.665\n",
            "-----------------------------------------------------------\n",
            "| End of epoch   8 | Time: 18.17s | Train Accuracy    0.583 | Train Loss    0.912 | Valid Accuracy    0.635 | Valid Loss    1.003 \n",
            "-----------------------------------------------------------\n",
            "| epoch   9 |    50/  734 batches | accuracy    0.623\n",
            "| epoch   9 |   100/  734 batches | accuracy    0.620\n",
            "| epoch   9 |   150/  734 batches | accuracy    0.650\n",
            "| epoch   9 |   200/  734 batches | accuracy    0.670\n",
            "| epoch   9 |   250/  734 batches | accuracy    0.665\n",
            "| epoch   9 |   300/  734 batches | accuracy    0.650\n",
            "| epoch   9 |   350/  734 batches | accuracy    0.700\n",
            "| epoch   9 |   400/  734 batches | accuracy    0.650\n",
            "| epoch   9 |   450/  734 batches | accuracy    0.660\n",
            "| epoch   9 |   500/  734 batches | accuracy    0.575\n",
            "| epoch   9 |   550/  734 batches | accuracy    0.635\n",
            "| epoch   9 |   600/  734 batches | accuracy    0.645\n",
            "| epoch   9 |   650/  734 batches | accuracy    0.655\n",
            "| epoch   9 |   700/  734 batches | accuracy    0.700\n",
            "-----------------------------------------------------------\n",
            "| End of epoch   9 | Time: 17.90s | Train Accuracy    0.652 | Train Loss    0.887 | Valid Accuracy    0.621 | Valid Loss    1.001 \n",
            "-----------------------------------------------------------\n",
            "| epoch  10 |    50/  734 batches | accuracy    0.632\n",
            "| epoch  10 |   100/  734 batches | accuracy    0.735\n",
            "| epoch  10 |   150/  734 batches | accuracy    0.685\n",
            "| epoch  10 |   200/  734 batches | accuracy    0.665\n",
            "| epoch  10 |   250/  734 batches | accuracy    0.630\n",
            "| epoch  10 |   300/  734 batches | accuracy    0.670\n",
            "| epoch  10 |   350/  734 batches | accuracy    0.685\n",
            "| epoch  10 |   400/  734 batches | accuracy    0.695\n",
            "| epoch  10 |   450/  734 batches | accuracy    0.625\n",
            "| epoch  10 |   500/  734 batches | accuracy    0.720\n",
            "| epoch  10 |   550/  734 batches | accuracy    0.595\n",
            "| epoch  10 |   600/  734 batches | accuracy    0.680\n",
            "| epoch  10 |   650/  734 batches | accuracy    0.635\n",
            "| epoch  10 |   700/  734 batches | accuracy    0.640\n",
            "-----------------------------------------------------------\n",
            "| End of epoch  10 | Time: 18.89s | Train Accuracy    0.697 | Train Loss    0.850 | Valid Accuracy    0.632 | Valid Loss    1.018 \n",
            "-----------------------------------------------------------\n",
            "| epoch  11 |    50/  734 batches | accuracy    0.691\n",
            "| epoch  11 |   100/  734 batches | accuracy    0.705\n",
            "| epoch  11 |   150/  734 batches | accuracy    0.630\n",
            "| epoch  11 |   200/  734 batches | accuracy    0.695\n",
            "| epoch  11 |   250/  734 batches | accuracy    0.690\n",
            "| epoch  11 |   300/  734 batches | accuracy    0.700\n",
            "| epoch  11 |   350/  734 batches | accuracy    0.685\n",
            "| epoch  11 |   400/  734 batches | accuracy    0.640\n",
            "| epoch  11 |   450/  734 batches | accuracy    0.640\n",
            "| epoch  11 |   500/  734 batches | accuracy    0.730\n",
            "| epoch  11 |   550/  734 batches | accuracy    0.660\n",
            "| epoch  11 |   600/  734 batches | accuracy    0.665\n",
            "| epoch  11 |   650/  734 batches | accuracy    0.610\n",
            "| epoch  11 |   700/  734 batches | accuracy    0.695\n",
            "-----------------------------------------------------------\n",
            "| End of epoch  11 | Time: 17.98s | Train Accuracy    0.644 | Train Loss    0.830 | Valid Accuracy    0.651 | Valid Loss    0.973 \n",
            "-----------------------------------------------------------\n",
            "| epoch  12 |    50/  734 batches | accuracy    0.676\n",
            "| epoch  12 |   100/  734 batches | accuracy    0.630\n",
            "| epoch  12 |   150/  734 batches | accuracy    0.705\n",
            "| epoch  12 |   200/  734 batches | accuracy    0.725\n",
            "| epoch  12 |   250/  734 batches | accuracy    0.685\n",
            "| epoch  12 |   300/  734 batches | accuracy    0.685\n",
            "| epoch  12 |   350/  734 batches | accuracy    0.705\n",
            "| epoch  12 |   400/  734 batches | accuracy    0.640\n",
            "| epoch  12 |   450/  734 batches | accuracy    0.730\n",
            "| epoch  12 |   500/  734 batches | accuracy    0.705\n",
            "| epoch  12 |   550/  734 batches | accuracy    0.710\n",
            "| epoch  12 |   600/  734 batches | accuracy    0.705\n",
            "| epoch  12 |   650/  734 batches | accuracy    0.650\n",
            "| epoch  12 |   700/  734 batches | accuracy    0.730\n",
            "-----------------------------------------------------------\n",
            "| End of epoch  12 | Time: 18.52s | Train Accuracy    0.644 | Train Loss    0.796 | Valid Accuracy    0.657 | Valid Loss    0.998 \n",
            "-----------------------------------------------------------\n",
            "| epoch  13 |    50/  734 batches | accuracy    0.672\n",
            "| epoch  13 |   100/  734 batches | accuracy    0.695\n",
            "| epoch  13 |   150/  734 batches | accuracy    0.780\n",
            "| epoch  13 |   200/  734 batches | accuracy    0.675\n",
            "| epoch  13 |   250/  734 batches | accuracy    0.715\n",
            "| epoch  13 |   300/  734 batches | accuracy    0.655\n",
            "| epoch  13 |   350/  734 batches | accuracy    0.705\n",
            "| epoch  13 |   400/  734 batches | accuracy    0.680\n",
            "| epoch  13 |   450/  734 batches | accuracy    0.675\n",
            "| epoch  13 |   500/  734 batches | accuracy    0.700\n",
            "| epoch  13 |   550/  734 batches | accuracy    0.695\n",
            "| epoch  13 |   600/  734 batches | accuracy    0.720\n",
            "| epoch  13 |   650/  734 batches | accuracy    0.695\n",
            "| epoch  13 |   700/  734 batches | accuracy    0.725\n",
            "-----------------------------------------------------------\n",
            "| End of epoch  13 | Time: 19.88s | Train Accuracy    0.667 | Train Loss    0.779 | Valid Accuracy    0.619 | Valid Loss    1.028 \n",
            "-----------------------------------------------------------\n",
            "| epoch  14 |    50/  734 batches | accuracy    0.642\n",
            "| epoch  14 |   100/  734 batches | accuracy    0.685\n",
            "| epoch  14 |   150/  734 batches | accuracy    0.725\n",
            "| epoch  14 |   200/  734 batches | accuracy    0.735\n",
            "| epoch  14 |   250/  734 batches | accuracy    0.690\n",
            "| epoch  14 |   300/  734 batches | accuracy    0.715\n",
            "| epoch  14 |   350/  734 batches | accuracy    0.740\n",
            "| epoch  14 |   400/  734 batches | accuracy    0.785\n",
            "| epoch  14 |   450/  734 batches | accuracy    0.660\n",
            "| epoch  14 |   500/  734 batches | accuracy    0.675\n",
            "| epoch  14 |   550/  734 batches | accuracy    0.680\n",
            "| epoch  14 |   600/  734 batches | accuracy    0.650\n",
            "| epoch  14 |   650/  734 batches | accuracy    0.730\n",
            "| epoch  14 |   700/  734 batches | accuracy    0.720\n",
            "-----------------------------------------------------------\n",
            "| End of epoch  14 | Time: 18.19s | Train Accuracy    0.727 | Train Loss    0.766 | Valid Accuracy    0.602 | Valid Loss    0.989 \n",
            "-----------------------------------------------------------\n",
            "| epoch  15 |    50/  734 batches | accuracy    0.701\n",
            "| epoch  15 |   100/  734 batches | accuracy    0.715\n",
            "| epoch  15 |   150/  734 batches | accuracy    0.690\n",
            "| epoch  15 |   200/  734 batches | accuracy    0.770\n",
            "| epoch  15 |   250/  734 batches | accuracy    0.750\n",
            "| epoch  15 |   300/  734 batches | accuracy    0.755\n",
            "| epoch  15 |   350/  734 batches | accuracy    0.760\n",
            "| epoch  15 |   400/  734 batches | accuracy    0.675\n",
            "| epoch  15 |   450/  734 batches | accuracy    0.700\n",
            "| epoch  15 |   500/  734 batches | accuracy    0.680\n",
            "| epoch  15 |   550/  734 batches | accuracy    0.680\n",
            "| epoch  15 |   600/  734 batches | accuracy    0.750\n",
            "| epoch  15 |   650/  734 batches | accuracy    0.695\n",
            "| epoch  15 |   700/  734 batches | accuracy    0.700\n",
            "-----------------------------------------------------------\n",
            "| End of epoch  15 | Time: 18.37s | Train Accuracy    0.773 | Train Loss    0.725 | Valid Accuracy    0.638 | Valid Loss    0.991 \n",
            "-----------------------------------------------------------\n",
            "| epoch  16 |    50/  734 batches | accuracy    0.745\n",
            "| epoch  16 |   100/  734 batches | accuracy    0.755\n",
            "| epoch  16 |   150/  734 batches | accuracy    0.685\n",
            "| epoch  16 |   200/  734 batches | accuracy    0.735\n",
            "| epoch  16 |   250/  734 batches | accuracy    0.715\n",
            "| epoch  16 |   300/  734 batches | accuracy    0.760\n",
            "| epoch  16 |   350/  734 batches | accuracy    0.770\n",
            "| epoch  16 |   400/  734 batches | accuracy    0.725\n",
            "| epoch  16 |   450/  734 batches | accuracy    0.700\n",
            "| epoch  16 |   500/  734 batches | accuracy    0.700\n",
            "| epoch  16 |   550/  734 batches | accuracy    0.770\n",
            "| epoch  16 |   600/  734 batches | accuracy    0.715\n",
            "| epoch  16 |   650/  734 batches | accuracy    0.725\n",
            "| epoch  16 |   700/  734 batches | accuracy    0.775\n",
            "-----------------------------------------------------------\n",
            "| End of epoch  16 | Time: 19.20s | Train Accuracy    0.735 | Train Loss    0.711 | Valid Accuracy    0.659 | Valid Loss    0.966 \n",
            "-----------------------------------------------------------\n",
            "| epoch  17 |    50/  734 batches | accuracy    0.765\n",
            "| epoch  17 |   100/  734 batches | accuracy    0.655\n",
            "| epoch  17 |   150/  734 batches | accuracy    0.745\n",
            "| epoch  17 |   200/  734 batches | accuracy    0.785\n",
            "| epoch  17 |   250/  734 batches | accuracy    0.755\n",
            "| epoch  17 |   300/  734 batches | accuracy    0.765\n",
            "| epoch  17 |   350/  734 batches | accuracy    0.800\n",
            "| epoch  17 |   400/  734 batches | accuracy    0.760\n",
            "| epoch  17 |   450/  734 batches | accuracy    0.700\n",
            "| epoch  17 |   500/  734 batches | accuracy    0.735\n",
            "| epoch  17 |   550/  734 batches | accuracy    0.690\n",
            "| epoch  17 |   600/  734 batches | accuracy    0.715\n",
            "| epoch  17 |   650/  734 batches | accuracy    0.795\n",
            "| epoch  17 |   700/  734 batches | accuracy    0.725\n",
            "-----------------------------------------------------------\n",
            "| End of epoch  17 | Time: 18.09s | Train Accuracy    0.697 | Train Loss    0.683 | Valid Accuracy    0.635 | Valid Loss    1.028 \n",
            "-----------------------------------------------------------\n",
            "| epoch  18 |    50/  734 batches | accuracy    0.755\n",
            "| epoch  18 |   100/  734 batches | accuracy    0.755\n",
            "| epoch  18 |   150/  734 batches | accuracy    0.725\n",
            "| epoch  18 |   200/  734 batches | accuracy    0.785\n",
            "| epoch  18 |   250/  734 batches | accuracy    0.825\n",
            "| epoch  18 |   300/  734 batches | accuracy    0.725\n",
            "| epoch  18 |   350/  734 batches | accuracy    0.755\n",
            "| epoch  18 |   400/  734 batches | accuracy    0.770\n",
            "| epoch  18 |   450/  734 batches | accuracy    0.730\n",
            "| epoch  18 |   500/  734 batches | accuracy    0.680\n",
            "| epoch  18 |   550/  734 batches | accuracy    0.735\n",
            "| epoch  18 |   600/  734 batches | accuracy    0.740\n",
            "| epoch  18 |   650/  734 batches | accuracy    0.755\n",
            "| epoch  18 |   700/  734 batches | accuracy    0.725\n",
            "-----------------------------------------------------------\n",
            "| End of epoch  18 | Time: 17.93s | Train Accuracy    0.735 | Train Loss    0.681 | Valid Accuracy    0.640 | Valid Loss    1.002 \n",
            "-----------------------------------------------------------\n",
            "| epoch  19 |    50/  734 batches | accuracy    0.735\n",
            "| epoch  19 |   100/  734 batches | accuracy    0.785\n",
            "| epoch  19 |   150/  734 batches | accuracy    0.805\n",
            "| epoch  19 |   200/  734 batches | accuracy    0.735\n",
            "| epoch  19 |   250/  734 batches | accuracy    0.760\n",
            "| epoch  19 |   300/  734 batches | accuracy    0.850\n",
            "| epoch  19 |   350/  734 batches | accuracy    0.765\n",
            "| epoch  19 |   400/  734 batches | accuracy    0.780\n",
            "| epoch  19 |   450/  734 batches | accuracy    0.720\n",
            "| epoch  19 |   500/  734 batches | accuracy    0.730\n",
            "| epoch  19 |   550/  734 batches | accuracy    0.740\n",
            "| epoch  19 |   600/  734 batches | accuracy    0.715\n",
            "| epoch  19 |   650/  734 batches | accuracy    0.740\n",
            "| epoch  19 |   700/  734 batches | accuracy    0.720\n",
            "-----------------------------------------------------------\n",
            "| End of epoch  19 | Time: 18.88s | Train Accuracy    0.795 | Train Loss    0.647 | Valid Accuracy    0.662 | Valid Loss    0.976 \n",
            "-----------------------------------------------------------\n",
            "| epoch  20 |    50/  734 batches | accuracy    0.804\n",
            "| epoch  20 |   100/  734 batches | accuracy    0.795\n",
            "| epoch  20 |   150/  734 batches | accuracy    0.775\n",
            "| epoch  20 |   200/  734 batches | accuracy    0.690\n",
            "| epoch  20 |   250/  734 batches | accuracy    0.795\n",
            "| epoch  20 |   300/  734 batches | accuracy    0.770\n",
            "| epoch  20 |   350/  734 batches | accuracy    0.730\n",
            "| epoch  20 |   400/  734 batches | accuracy    0.815\n",
            "| epoch  20 |   450/  734 batches | accuracy    0.740\n",
            "| epoch  20 |   500/  734 batches | accuracy    0.775\n",
            "| epoch  20 |   550/  734 batches | accuracy    0.720\n",
            "| epoch  20 |   600/  734 batches | accuracy    0.750\n",
            "| epoch  20 |   650/  734 batches | accuracy    0.735\n",
            "| epoch  20 |   700/  734 batches | accuracy    0.765\n",
            "-----------------------------------------------------------\n",
            "| End of epoch  20 | Time: 18.10s | Train Accuracy    0.705 | Train Loss    0.634 | Valid Accuracy    0.608 | Valid Loss    1.041 \n",
            "-----------------------------------------------------------\n",
            "| epoch  21 |    50/  734 batches | accuracy    0.804\n",
            "| epoch  21 |   100/  734 batches | accuracy    0.770\n",
            "| epoch  21 |   150/  734 batches | accuracy    0.805\n",
            "| epoch  21 |   200/  734 batches | accuracy    0.755\n",
            "| epoch  21 |   250/  734 batches | accuracy    0.845\n",
            "| epoch  21 |   300/  734 batches | accuracy    0.780\n",
            "| epoch  21 |   350/  734 batches | accuracy    0.745\n",
            "| epoch  21 |   400/  734 batches | accuracy    0.760\n",
            "| epoch  21 |   450/  734 batches | accuracy    0.775\n",
            "| epoch  21 |   500/  734 batches | accuracy    0.765\n",
            "| epoch  21 |   550/  734 batches | accuracy    0.730\n",
            "| epoch  21 |   600/  734 batches | accuracy    0.775\n",
            "| epoch  21 |   650/  734 batches | accuracy    0.715\n",
            "| epoch  21 |   700/  734 batches | accuracy    0.770\n",
            "-----------------------------------------------------------\n",
            "| End of epoch  21 | Time: 18.02s | Train Accuracy    0.826 | Train Loss    0.605 | Valid Accuracy    0.640 | Valid Loss    1.029 \n",
            "-----------------------------------------------------------\n",
            "| epoch  22 |    50/  734 batches | accuracy    0.745\n",
            "| epoch  22 |   100/  734 batches | accuracy    0.805\n",
            "| epoch  22 |   150/  734 batches | accuracy    0.760\n",
            "| epoch  22 |   200/  734 batches | accuracy    0.825\n",
            "| epoch  22 |   250/  734 batches | accuracy    0.810\n",
            "| epoch  22 |   300/  734 batches | accuracy    0.785\n",
            "| epoch  22 |   350/  734 batches | accuracy    0.790\n",
            "| epoch  22 |   400/  734 batches | accuracy    0.780\n",
            "| epoch  22 |   450/  734 batches | accuracy    0.765\n",
            "| epoch  22 |   500/  734 batches | accuracy    0.815\n",
            "| epoch  22 |   550/  734 batches | accuracy    0.860\n",
            "| epoch  22 |   600/  734 batches | accuracy    0.755\n",
            "| epoch  22 |   650/  734 batches | accuracy    0.775\n",
            "| epoch  22 |   700/  734 batches | accuracy    0.760\n",
            "-----------------------------------------------------------\n",
            "| End of epoch  22 | Time: 19.06s | Train Accuracy    0.750 | Train Loss    0.576 | Valid Accuracy    0.654 | Valid Loss    1.046 \n",
            "-----------------------------------------------------------\n",
            "| epoch  23 |    50/  734 batches | accuracy    0.799\n",
            "| epoch  23 |   100/  734 batches | accuracy    0.800\n",
            "| epoch  23 |   150/  734 batches | accuracy    0.800\n",
            "| epoch  23 |   200/  734 batches | accuracy    0.815\n",
            "| epoch  23 |   250/  734 batches | accuracy    0.780\n",
            "| epoch  23 |   300/  734 batches | accuracy    0.795\n",
            "| epoch  23 |   350/  734 batches | accuracy    0.820\n",
            "| epoch  23 |   400/  734 batches | accuracy    0.800\n",
            "| epoch  23 |   450/  734 batches | accuracy    0.790\n",
            "| epoch  23 |   500/  734 batches | accuracy    0.740\n",
            "| epoch  23 |   550/  734 batches | accuracy    0.775\n",
            "| epoch  23 |   600/  734 batches | accuracy    0.795\n",
            "| epoch  23 |   650/  734 batches | accuracy    0.770\n",
            "| epoch  23 |   700/  734 batches | accuracy    0.805\n",
            "-----------------------------------------------------------\n",
            "| End of epoch  23 | Time: 18.12s | Train Accuracy    0.818 | Train Loss    0.559 | Valid Accuracy    0.668 | Valid Loss    0.991 \n",
            "-----------------------------------------------------------\n",
            "| epoch  24 |    50/  734 batches | accuracy    0.819\n",
            "| epoch  24 |   100/  734 batches | accuracy    0.780\n",
            "| epoch  24 |   150/  734 batches | accuracy    0.800\n",
            "| epoch  24 |   200/  734 batches | accuracy    0.860\n",
            "| epoch  24 |   250/  734 batches | accuracy    0.785\n",
            "| epoch  24 |   300/  734 batches | accuracy    0.850\n",
            "| epoch  24 |   350/  734 batches | accuracy    0.785\n",
            "| epoch  24 |   400/  734 batches | accuracy    0.775\n",
            "| epoch  24 |   450/  734 batches | accuracy    0.755\n",
            "| epoch  24 |   500/  734 batches | accuracy    0.760\n",
            "| epoch  24 |   550/  734 batches | accuracy    0.765\n",
            "| epoch  24 |   600/  734 batches | accuracy    0.805\n",
            "| epoch  24 |   650/  734 batches | accuracy    0.800\n",
            "| epoch  24 |   700/  734 batches | accuracy    0.795\n",
            "-----------------------------------------------------------\n",
            "| End of epoch  24 | Time: 18.19s | Train Accuracy    0.848 | Train Loss    0.552 | Valid Accuracy    0.657 | Valid Loss    1.048 \n",
            "-----------------------------------------------------------\n",
            "| epoch  25 |    50/  734 batches | accuracy    0.819\n",
            "| epoch  25 |   100/  734 batches | accuracy    0.805\n",
            "| epoch  25 |   150/  734 batches | accuracy    0.820\n",
            "| epoch  25 |   200/  734 batches | accuracy    0.835\n",
            "| epoch  25 |   250/  734 batches | accuracy    0.875\n",
            "| epoch  25 |   300/  734 batches | accuracy    0.785\n",
            "| epoch  25 |   350/  734 batches | accuracy    0.730\n",
            "| epoch  25 |   400/  734 batches | accuracy    0.780\n",
            "| epoch  25 |   450/  734 batches | accuracy    0.770\n",
            "| epoch  25 |   500/  734 batches | accuracy    0.860\n",
            "| epoch  25 |   550/  734 batches | accuracy    0.810\n",
            "| epoch  25 |   600/  734 batches | accuracy    0.805\n",
            "| epoch  25 |   650/  734 batches | accuracy    0.800\n",
            "| epoch  25 |   700/  734 batches | accuracy    0.790\n",
            "-----------------------------------------------------------\n",
            "| End of epoch  25 | Time: 19.13s | Train Accuracy    0.735 | Train Loss    0.525 | Valid Accuracy    0.646 | Valid Loss    1.109 \n",
            "-----------------------------------------------------------\n",
            "| epoch  26 |    50/  734 batches | accuracy    0.804\n",
            "| epoch  26 |   100/  734 batches | accuracy    0.825\n",
            "| epoch  26 |   150/  734 batches | accuracy    0.825\n",
            "| epoch  26 |   200/  734 batches | accuracy    0.845\n",
            "| epoch  26 |   250/  734 batches | accuracy    0.830\n",
            "| epoch  26 |   300/  734 batches | accuracy    0.830\n",
            "| epoch  26 |   350/  734 batches | accuracy    0.845\n",
            "| epoch  26 |   400/  734 batches | accuracy    0.900\n",
            "| epoch  26 |   450/  734 batches | accuracy    0.850\n",
            "| epoch  26 |   500/  734 batches | accuracy    0.800\n",
            "| epoch  26 |   550/  734 batches | accuracy    0.790\n",
            "| epoch  26 |   600/  734 batches | accuracy    0.710\n",
            "| epoch  26 |   650/  734 batches | accuracy    0.800\n",
            "| epoch  26 |   700/  734 batches | accuracy    0.740\n",
            "-----------------------------------------------------------\n",
            "| End of epoch  26 | Time: 18.17s | Train Accuracy    0.833 | Train Loss    0.509 | Valid Accuracy    0.670 | Valid Loss    1.060 \n",
            "-----------------------------------------------------------\n",
            "| epoch  27 |    50/  734 batches | accuracy    0.858\n",
            "| epoch  27 |   100/  734 batches | accuracy    0.850\n",
            "| epoch  27 |   150/  734 batches | accuracy    0.835\n",
            "| epoch  27 |   200/  734 batches | accuracy    0.825\n",
            "| epoch  27 |   250/  734 batches | accuracy    0.880\n",
            "| epoch  27 |   300/  734 batches | accuracy    0.835\n",
            "| epoch  27 |   350/  734 batches | accuracy    0.855\n",
            "| epoch  27 |   400/  734 batches | accuracy    0.840\n",
            "| epoch  27 |   450/  734 batches | accuracy    0.830\n",
            "| epoch  27 |   500/  734 batches | accuracy    0.820\n",
            "| epoch  27 |   550/  734 batches | accuracy    0.805\n",
            "| epoch  27 |   600/  734 batches | accuracy    0.855\n",
            "| epoch  27 |   650/  734 batches | accuracy    0.845\n",
            "| epoch  27 |   700/  734 batches | accuracy    0.820\n",
            "-----------------------------------------------------------\n",
            "| End of epoch  27 | Time: 18.37s | Train Accuracy    0.750 | Train Loss    0.480 | Valid Accuracy    0.629 | Valid Loss    1.138 \n",
            "-----------------------------------------------------------\n",
            "| epoch  28 |    50/  734 batches | accuracy    0.833\n",
            "| epoch  28 |   100/  734 batches | accuracy    0.815\n",
            "| epoch  28 |   150/  734 batches | accuracy    0.850\n",
            "| epoch  28 |   200/  734 batches | accuracy    0.840\n",
            "| epoch  28 |   250/  734 batches | accuracy    0.840\n",
            "| epoch  28 |   300/  734 batches | accuracy    0.840\n",
            "| epoch  28 |   350/  734 batches | accuracy    0.850\n",
            "| epoch  28 |   400/  734 batches | accuracy    0.885\n",
            "| epoch  28 |   450/  734 batches | accuracy    0.865\n",
            "| epoch  28 |   500/  734 batches | accuracy    0.835\n",
            "| epoch  28 |   550/  734 batches | accuracy    0.775\n",
            "| epoch  28 |   600/  734 batches | accuracy    0.850\n",
            "| epoch  28 |   650/  734 batches | accuracy    0.800\n",
            "| epoch  28 |   700/  734 batches | accuracy    0.805\n",
            "-----------------------------------------------------------\n",
            "| End of epoch  28 | Time: 19.00s | Train Accuracy    0.879 | Train Loss    0.461 | Valid Accuracy    0.651 | Valid Loss    1.127 \n",
            "-----------------------------------------------------------\n",
            "| epoch  29 |    50/  734 batches | accuracy    0.819\n",
            "| epoch  29 |   100/  734 batches | accuracy    0.840\n",
            "| epoch  29 |   150/  734 batches | accuracy    0.845\n",
            "| epoch  29 |   200/  734 batches | accuracy    0.875\n",
            "| epoch  29 |   250/  734 batches | accuracy    0.835\n",
            "| epoch  29 |   300/  734 batches | accuracy    0.850\n",
            "| epoch  29 |   350/  734 batches | accuracy    0.840\n",
            "| epoch  29 |   400/  734 batches | accuracy    0.830\n",
            "| epoch  29 |   450/  734 batches | accuracy    0.810\n",
            "| epoch  29 |   500/  734 batches | accuracy    0.840\n",
            "| epoch  29 |   550/  734 batches | accuracy    0.835\n",
            "| epoch  29 |   600/  734 batches | accuracy    0.800\n",
            "| epoch  29 |   650/  734 batches | accuracy    0.865\n",
            "| epoch  29 |   700/  734 batches | accuracy    0.825\n",
            "-----------------------------------------------------------\n",
            "| End of epoch  29 | Time: 18.14s | Train Accuracy    0.758 | Train Loss    0.457 | Valid Accuracy    0.649 | Valid Loss    1.158 \n",
            "-----------------------------------------------------------\n",
            "| epoch  30 |    50/  734 batches | accuracy    0.843\n",
            "| epoch  30 |   100/  734 batches | accuracy    0.890\n",
            "| epoch  30 |   150/  734 batches | accuracy    0.845\n",
            "| epoch  30 |   200/  734 batches | accuracy    0.860\n",
            "| epoch  30 |   250/  734 batches | accuracy    0.835\n",
            "| epoch  30 |   300/  734 batches | accuracy    0.835\n",
            "| epoch  30 |   350/  734 batches | accuracy    0.795\n",
            "| epoch  30 |   400/  734 batches | accuracy    0.790\n",
            "| epoch  30 |   450/  734 batches | accuracy    0.870\n",
            "| epoch  30 |   500/  734 batches | accuracy    0.865\n",
            "| epoch  30 |   550/  734 batches | accuracy    0.840\n",
            "| epoch  30 |   600/  734 batches | accuracy    0.800\n",
            "| epoch  30 |   650/  734 batches | accuracy    0.865\n",
            "| epoch  30 |   700/  734 batches | accuracy    0.805\n",
            "-----------------------------------------------------------\n",
            "| End of epoch  30 | Time: 18.05s | Train Accuracy    0.826 | Train Loss    0.454 | Valid Accuracy    0.651 | Valid Loss    1.093 \n",
            "-----------------------------------------------------------\n",
            "| epoch  31 |    50/  734 batches | accuracy    0.853\n",
            "| epoch  31 |   100/  734 batches | accuracy    0.850\n",
            "| epoch  31 |   150/  734 batches | accuracy    0.795\n",
            "| epoch  31 |   200/  734 batches | accuracy    0.915\n",
            "| epoch  31 |   250/  734 batches | accuracy    0.850\n",
            "| epoch  31 |   300/  734 batches | accuracy    0.890\n",
            "| epoch  31 |   350/  734 batches | accuracy    0.850\n",
            "| epoch  31 |   400/  734 batches | accuracy    0.790\n",
            "| epoch  31 |   450/  734 batches | accuracy    0.835\n",
            "| epoch  31 |   500/  734 batches | accuracy    0.830\n",
            "| epoch  31 |   550/  734 batches | accuracy    0.925\n",
            "| epoch  31 |   600/  734 batches | accuracy    0.850\n",
            "| epoch  31 |   650/  734 batches | accuracy    0.860\n",
            "| epoch  31 |   700/  734 batches | accuracy    0.840\n",
            "-----------------------------------------------------------\n",
            "| End of epoch  31 | Time: 19.08s | Train Accuracy    0.894 | Train Loss    0.411 | Valid Accuracy    0.654 | Valid Loss    1.134 \n",
            "-----------------------------------------------------------\n",
            "| epoch  32 |    50/  734 batches | accuracy    0.887\n",
            "| epoch  32 |   100/  734 batches | accuracy    0.885\n",
            "| epoch  32 |   150/  734 batches | accuracy    0.800\n",
            "| epoch  32 |   200/  734 batches | accuracy    0.845\n",
            "| epoch  32 |   250/  734 batches | accuracy    0.840\n",
            "| epoch  32 |   300/  734 batches | accuracy    0.825\n",
            "| epoch  32 |   350/  734 batches | accuracy    0.865\n",
            "| epoch  32 |   400/  734 batches | accuracy    0.830\n",
            "| epoch  32 |   450/  734 batches | accuracy    0.835\n",
            "| epoch  32 |   500/  734 batches | accuracy    0.870\n",
            "| epoch  32 |   550/  734 batches | accuracy    0.820\n",
            "| epoch  32 |   600/  734 batches | accuracy    0.825\n",
            "| epoch  32 |   650/  734 batches | accuracy    0.890\n",
            "| epoch  32 |   700/  734 batches | accuracy    0.850\n",
            "-----------------------------------------------------------\n",
            "| End of epoch  32 | Time: 18.13s | Train Accuracy    0.833 | Train Loss    0.423 | Valid Accuracy    0.684 | Valid Loss    1.166 \n",
            "-----------------------------------------------------------\n",
            "| epoch  33 |    50/  734 batches | accuracy    0.902\n",
            "| epoch  33 |   100/  734 batches | accuracy    0.845\n",
            "| epoch  33 |   150/  734 batches | accuracy    0.850\n",
            "| epoch  33 |   200/  734 batches | accuracy    0.875\n",
            "| epoch  33 |   250/  734 batches | accuracy    0.865\n",
            "| epoch  33 |   300/  734 batches | accuracy    0.865\n",
            "| epoch  33 |   350/  734 batches | accuracy    0.865\n",
            "| epoch  33 |   400/  734 batches | accuracy    0.905\n",
            "| epoch  33 |   450/  734 batches | accuracy    0.870\n",
            "| epoch  33 |   500/  734 batches | accuracy    0.880\n",
            "| epoch  33 |   550/  734 batches | accuracy    0.840\n",
            "| epoch  33 |   600/  734 batches | accuracy    0.890\n",
            "| epoch  33 |   650/  734 batches | accuracy    0.855\n",
            "| epoch  33 |   700/  734 batches | accuracy    0.830\n",
            "-----------------------------------------------------------\n",
            "| End of epoch  33 | Time: 17.93s | Train Accuracy    0.871 | Train Loss    0.378 | Valid Accuracy    0.627 | Valid Loss    1.234 \n",
            "-----------------------------------------------------------\n",
            "| epoch  34 |    50/  734 batches | accuracy    0.897\n",
            "| epoch  34 |   100/  734 batches | accuracy    0.895\n",
            "| epoch  34 |   150/  734 batches | accuracy    0.820\n",
            "| epoch  34 |   200/  734 batches | accuracy    0.840\n",
            "| epoch  34 |   250/  734 batches | accuracy    0.870\n",
            "| epoch  34 |   300/  734 batches | accuracy    0.910\n",
            "| epoch  34 |   350/  734 batches | accuracy    0.840\n",
            "| epoch  34 |   400/  734 batches | accuracy    0.880\n",
            "| epoch  34 |   450/  734 batches | accuracy    0.905\n",
            "| epoch  34 |   500/  734 batches | accuracy    0.865\n",
            "| epoch  34 |   550/  734 batches | accuracy    0.825\n",
            "| epoch  34 |   600/  734 batches | accuracy    0.875\n",
            "| epoch  34 |   650/  734 batches | accuracy    0.845\n",
            "| epoch  34 |   700/  734 batches | accuracy    0.895\n",
            "-----------------------------------------------------------\n",
            "| End of epoch  34 | Time: 18.96s | Train Accuracy    0.871 | Train Loss    0.370 | Valid Accuracy    0.632 | Valid Loss    1.240 \n",
            "-----------------------------------------------------------\n",
            "| epoch  35 |    50/  734 batches | accuracy    0.848\n",
            "| epoch  35 |   100/  734 batches | accuracy    0.840\n",
            "| epoch  35 |   150/  734 batches | accuracy    0.860\n",
            "| epoch  35 |   200/  734 batches | accuracy    0.900\n",
            "| epoch  35 |   250/  734 batches | accuracy    0.860\n",
            "| epoch  35 |   300/  734 batches | accuracy    0.855\n",
            "| epoch  35 |   350/  734 batches | accuracy    0.880\n",
            "| epoch  35 |   400/  734 batches | accuracy    0.890\n",
            "| epoch  35 |   450/  734 batches | accuracy    0.900\n",
            "| epoch  35 |   500/  734 batches | accuracy    0.870\n",
            "| epoch  35 |   550/  734 batches | accuracy    0.880\n",
            "| epoch  35 |   600/  734 batches | accuracy    0.900\n",
            "| epoch  35 |   650/  734 batches | accuracy    0.890\n",
            "| epoch  35 |   700/  734 batches | accuracy    0.840\n",
            "-----------------------------------------------------------\n",
            "| End of epoch  35 | Time: 17.89s | Train Accuracy    0.894 | Train Loss    0.345 | Valid Accuracy    0.616 | Valid Loss    1.247 \n",
            "-----------------------------------------------------------\n",
            "| epoch  36 |    50/  734 batches | accuracy    0.873\n",
            "| epoch  36 |   100/  734 batches | accuracy    0.870\n",
            "| epoch  36 |   150/  734 batches | accuracy    0.885\n",
            "| epoch  36 |   200/  734 batches | accuracy    0.880\n",
            "| epoch  36 |   250/  734 batches | accuracy    0.885\n",
            "| epoch  36 |   300/  734 batches | accuracy    0.905\n",
            "| epoch  36 |   350/  734 batches | accuracy    0.895\n",
            "| epoch  36 |   400/  734 batches | accuracy    0.880\n",
            "| epoch  36 |   450/  734 batches | accuracy    0.895\n",
            "| epoch  36 |   500/  734 batches | accuracy    0.890\n",
            "| epoch  36 |   550/  734 batches | accuracy    0.850\n",
            "| epoch  36 |   600/  734 batches | accuracy    0.885\n",
            "| epoch  36 |   650/  734 batches | accuracy    0.860\n",
            "| epoch  36 |   700/  734 batches | accuracy    0.885\n",
            "-----------------------------------------------------------\n",
            "| End of epoch  36 | Time: 18.00s | Train Accuracy    0.939 | Train Loss    0.328 | Valid Accuracy    0.638 | Valid Loss    1.332 \n",
            "-----------------------------------------------------------\n",
            "| epoch  37 |    50/  734 batches | accuracy    0.917\n",
            "| epoch  37 |   100/  734 batches | accuracy    0.895\n",
            "| epoch  37 |   150/  734 batches | accuracy    0.880\n",
            "| epoch  37 |   200/  734 batches | accuracy    0.890\n",
            "| epoch  37 |   250/  734 batches | accuracy    0.910\n",
            "| epoch  37 |   300/  734 batches | accuracy    0.890\n",
            "| epoch  37 |   350/  734 batches | accuracy    0.895\n",
            "| epoch  37 |   400/  734 batches | accuracy    0.855\n",
            "| epoch  37 |   450/  734 batches | accuracy    0.855\n",
            "| epoch  37 |   500/  734 batches | accuracy    0.850\n",
            "| epoch  37 |   550/  734 batches | accuracy    0.830\n",
            "| epoch  37 |   600/  734 batches | accuracy    0.860\n",
            "| epoch  37 |   650/  734 batches | accuracy    0.910\n",
            "| epoch  37 |   700/  734 batches | accuracy    0.895\n",
            "-----------------------------------------------------------\n",
            "| End of epoch  37 | Time: 18.98s | Train Accuracy    0.848 | Train Loss    0.329 | Valid Accuracy    0.657 | Valid Loss    1.340 \n",
            "-----------------------------------------------------------\n",
            "| epoch  38 |    50/  734 batches | accuracy    0.922\n",
            "| epoch  38 |   100/  734 batches | accuracy    0.880\n",
            "| epoch  38 |   150/  734 batches | accuracy    0.940\n",
            "| epoch  38 |   200/  734 batches | accuracy    0.855\n",
            "| epoch  38 |   250/  734 batches | accuracy    0.860\n",
            "| epoch  38 |   300/  734 batches | accuracy    0.905\n",
            "| epoch  38 |   350/  734 batches | accuracy    0.895\n",
            "| epoch  38 |   400/  734 batches | accuracy    0.895\n",
            "| epoch  38 |   450/  734 batches | accuracy    0.910\n",
            "| epoch  38 |   500/  734 batches | accuracy    0.880\n",
            "| epoch  38 |   550/  734 batches | accuracy    0.885\n",
            "| epoch  38 |   600/  734 batches | accuracy    0.900\n",
            "| epoch  38 |   650/  734 batches | accuracy    0.875\n",
            "| epoch  38 |   700/  734 batches | accuracy    0.875\n",
            "-----------------------------------------------------------\n",
            "| End of epoch  38 | Time: 18.26s | Train Accuracy    0.841 | Train Loss    0.323 | Valid Accuracy    0.654 | Valid Loss    1.366 \n",
            "-----------------------------------------------------------\n",
            "| epoch  39 |    50/  734 batches | accuracy    0.922\n",
            "| epoch  39 |   100/  734 batches | accuracy    0.930\n",
            "| epoch  39 |   150/  734 batches | accuracy    0.880\n",
            "| epoch  39 |   200/  734 batches | accuracy    0.910\n",
            "| epoch  39 |   250/  734 batches | accuracy    0.895\n",
            "| epoch  39 |   300/  734 batches | accuracy    0.880\n",
            "| epoch  39 |   350/  734 batches | accuracy    0.860\n",
            "| epoch  39 |   400/  734 batches | accuracy    0.900\n",
            "| epoch  39 |   450/  734 batches | accuracy    0.875\n",
            "| epoch  39 |   500/  734 batches | accuracy    0.860\n",
            "| epoch  39 |   550/  734 batches | accuracy    0.925\n",
            "| epoch  39 |   600/  734 batches | accuracy    0.895\n",
            "| epoch  39 |   650/  734 batches | accuracy    0.885\n",
            "| epoch  39 |   700/  734 batches | accuracy    0.880\n",
            "-----------------------------------------------------------\n",
            "| End of epoch  39 | Time: 18.46s | Train Accuracy    0.871 | Train Loss    0.296 | Valid Accuracy    0.665 | Valid Loss    1.358 \n",
            "-----------------------------------------------------------\n",
            "| epoch  40 |    50/  734 batches | accuracy    0.917\n",
            "| epoch  40 |   100/  734 batches | accuracy    0.860\n",
            "| epoch  40 |   150/  734 batches | accuracy    0.895\n",
            "| epoch  40 |   200/  734 batches | accuracy    0.905\n",
            "| epoch  40 |   250/  734 batches | accuracy    0.950\n",
            "| epoch  40 |   300/  734 batches | accuracy    0.890\n",
            "| epoch  40 |   350/  734 batches | accuracy    0.910\n",
            "| epoch  40 |   400/  734 batches | accuracy    0.890\n",
            "| epoch  40 |   450/  734 batches | accuracy    0.910\n",
            "| epoch  40 |   500/  734 batches | accuracy    0.910\n",
            "| epoch  40 |   550/  734 batches | accuracy    0.880\n",
            "| epoch  40 |   600/  734 batches | accuracy    0.915\n",
            "| epoch  40 |   650/  734 batches | accuracy    0.895\n",
            "| epoch  40 |   700/  734 batches | accuracy    0.910\n",
            "-----------------------------------------------------------\n",
            "| End of epoch  40 | Time: 19.36s | Train Accuracy    0.871 | Train Loss    0.293 | Valid Accuracy    0.621 | Valid Loss    1.569 \n",
            "-----------------------------------------------------------\n",
            "| epoch  41 |    50/  734 batches | accuracy    0.828\n",
            "| epoch  41 |   100/  734 batches | accuracy    0.875\n",
            "| epoch  41 |   150/  734 batches | accuracy    0.900\n",
            "| epoch  41 |   200/  734 batches | accuracy    0.925\n",
            "| epoch  41 |   250/  734 batches | accuracy    0.905\n",
            "| epoch  41 |   300/  734 batches | accuracy    0.895\n",
            "| epoch  41 |   350/  734 batches | accuracy    0.905\n",
            "| epoch  41 |   400/  734 batches | accuracy    0.910\n",
            "| epoch  41 |   450/  734 batches | accuracy    0.925\n",
            "| epoch  41 |   500/  734 batches | accuracy    0.895\n",
            "| epoch  41 |   550/  734 batches | accuracy    0.945\n",
            "| epoch  41 |   600/  734 batches | accuracy    0.875\n",
            "| epoch  41 |   650/  734 batches | accuracy    0.895\n",
            "| epoch  41 |   700/  734 batches | accuracy    0.835\n",
            "-----------------------------------------------------------\n",
            "| End of epoch  41 | Time: 18.25s | Train Accuracy    0.902 | Train Loss    0.304 | Valid Accuracy    0.613 | Valid Loss    1.558 \n",
            "-----------------------------------------------------------\n",
            "| epoch  42 |    50/  734 batches | accuracy    0.897\n",
            "| epoch  42 |   100/  734 batches | accuracy    0.875\n",
            "| epoch  42 |   150/  734 batches | accuracy    0.895\n",
            "| epoch  42 |   200/  734 batches | accuracy    0.885\n",
            "| epoch  42 |   250/  734 batches | accuracy    0.925\n",
            "| epoch  42 |   300/  734 batches | accuracy    0.930\n",
            "| epoch  42 |   350/  734 batches | accuracy    0.910\n",
            "| epoch  42 |   400/  734 batches | accuracy    0.905\n",
            "| epoch  42 |   450/  734 batches | accuracy    0.895\n",
            "| epoch  42 |   500/  734 batches | accuracy    0.925\n",
            "| epoch  42 |   550/  734 batches | accuracy    0.935\n",
            "| epoch  42 |   600/  734 batches | accuracy    0.910\n",
            "| epoch  42 |   650/  734 batches | accuracy    0.875\n",
            "| epoch  42 |   700/  734 batches | accuracy    0.895\n",
            "-----------------------------------------------------------\n",
            "| End of epoch  42 | Time: 18.70s | Train Accuracy    0.886 | Train Loss    0.279 | Valid Accuracy    0.676 | Valid Loss    1.341 \n",
            "-----------------------------------------------------------\n",
            "| epoch  43 |    50/  734 batches | accuracy    0.931\n",
            "| epoch  43 |   100/  734 batches | accuracy    0.935\n",
            "| epoch  43 |   150/  734 batches | accuracy    0.885\n",
            "| epoch  43 |   200/  734 batches | accuracy    0.905\n",
            "| epoch  43 |   250/  734 batches | accuracy    0.955\n",
            "| epoch  43 |   300/  734 batches | accuracy    0.915\n",
            "| epoch  43 |   350/  734 batches | accuracy    0.915\n",
            "| epoch  43 |   400/  734 batches | accuracy    0.925\n",
            "| epoch  43 |   450/  734 batches | accuracy    0.845\n",
            "| epoch  43 |   500/  734 batches | accuracy    0.895\n",
            "| epoch  43 |   550/  734 batches | accuracy    0.865\n",
            "| epoch  43 |   600/  734 batches | accuracy    0.890\n",
            "| epoch  43 |   650/  734 batches | accuracy    0.885\n",
            "| epoch  43 |   700/  734 batches | accuracy    0.915\n",
            "-----------------------------------------------------------\n",
            "| End of epoch  43 | Time: 18.86s | Train Accuracy    0.962 | Train Loss    0.260 | Valid Accuracy    0.649 | Valid Loss    1.494 \n",
            "-----------------------------------------------------------\n",
            "| epoch  44 |    50/  734 batches | accuracy    0.956\n",
            "| epoch  44 |   100/  734 batches | accuracy    0.920\n",
            "| epoch  44 |   150/  734 batches | accuracy    0.945\n",
            "| epoch  44 |   200/  734 batches | accuracy    0.920\n",
            "| epoch  44 |   250/  734 batches | accuracy    0.895\n",
            "| epoch  44 |   300/  734 batches | accuracy    0.915\n",
            "| epoch  44 |   350/  734 batches | accuracy    0.930\n",
            "| epoch  44 |   400/  734 batches | accuracy    0.940\n",
            "| epoch  44 |   450/  734 batches | accuracy    0.875\n",
            "| epoch  44 |   500/  734 batches | accuracy    0.925\n",
            "| epoch  44 |   550/  734 batches | accuracy    0.905\n",
            "| epoch  44 |   600/  734 batches | accuracy    0.945\n",
            "| epoch  44 |   650/  734 batches | accuracy    0.930\n",
            "| epoch  44 |   700/  734 batches | accuracy    0.910\n",
            "-----------------------------------------------------------\n",
            "| End of epoch  44 | Time: 18.40s | Train Accuracy    0.917 | Train Loss    0.240 | Valid Accuracy    0.657 | Valid Loss    1.524 \n",
            "-----------------------------------------------------------\n",
            "| epoch  45 |    50/  734 batches | accuracy    0.936\n",
            "| epoch  45 |   100/  734 batches | accuracy    0.945\n",
            "| epoch  45 |   150/  734 batches | accuracy    0.915\n",
            "| epoch  45 |   200/  734 batches | accuracy    0.935\n",
            "| epoch  45 |   250/  734 batches | accuracy    0.915\n",
            "| epoch  45 |   300/  734 batches | accuracy    0.905\n",
            "| epoch  45 |   350/  734 batches | accuracy    0.895\n",
            "| epoch  45 |   400/  734 batches | accuracy    0.905\n",
            "| epoch  45 |   450/  734 batches | accuracy    0.905\n",
            "| epoch  45 |   500/  734 batches | accuracy    0.910\n",
            "| epoch  45 |   550/  734 batches | accuracy    0.925\n",
            "| epoch  45 |   600/  734 batches | accuracy    0.895\n",
            "| epoch  45 |   650/  734 batches | accuracy    0.870\n",
            "| epoch  45 |   700/  734 batches | accuracy    0.945\n",
            "-----------------------------------------------------------\n",
            "| End of epoch  45 | Time: 18.89s | Train Accuracy    0.939 | Train Loss    0.255 | Valid Accuracy    0.662 | Valid Loss    1.451 \n",
            "-----------------------------------------------------------\n",
            "| epoch  46 |    50/  734 batches | accuracy    0.941\n",
            "| epoch  46 |   100/  734 batches | accuracy    0.955\n",
            "| epoch  46 |   150/  734 batches | accuracy    0.920\n",
            "| epoch  46 |   200/  734 batches | accuracy    0.935\n",
            "| epoch  46 |   250/  734 batches | accuracy    0.970\n",
            "| epoch  46 |   300/  734 batches | accuracy    0.950\n",
            "| epoch  46 |   350/  734 batches | accuracy    0.935\n",
            "| epoch  46 |   400/  734 batches | accuracy    0.900\n",
            "| epoch  46 |   450/  734 batches | accuracy    0.920\n",
            "| epoch  46 |   500/  734 batches | accuracy    0.895\n",
            "| epoch  46 |   550/  734 batches | accuracy    0.900\n",
            "| epoch  46 |   600/  734 batches | accuracy    0.925\n",
            "| epoch  46 |   650/  734 batches | accuracy    0.950\n",
            "| epoch  46 |   700/  734 batches | accuracy    0.940\n",
            "-----------------------------------------------------------\n",
            "| End of epoch  46 | Time: 18.60s | Train Accuracy    0.939 | Train Loss    0.204 | Valid Accuracy    0.649 | Valid Loss    1.666 \n",
            "-----------------------------------------------------------\n",
            "| epoch  47 |    50/  734 batches | accuracy    0.941\n",
            "| epoch  47 |   100/  734 batches | accuracy    0.905\n",
            "| epoch  47 |   150/  734 batches | accuracy    0.885\n",
            "| epoch  47 |   200/  734 batches | accuracy    0.940\n",
            "| epoch  47 |   250/  734 batches | accuracy    0.945\n",
            "| epoch  47 |   300/  734 batches | accuracy    0.945\n",
            "| epoch  47 |   350/  734 batches | accuracy    0.935\n",
            "| epoch  47 |   400/  734 batches | accuracy    0.950\n",
            "| epoch  47 |   450/  734 batches | accuracy    0.930\n",
            "| epoch  47 |   500/  734 batches | accuracy    0.920\n",
            "| epoch  47 |   550/  734 batches | accuracy    0.935\n",
            "| epoch  47 |   600/  734 batches | accuracy    0.945\n",
            "| epoch  47 |   650/  734 batches | accuracy    0.930\n",
            "| epoch  47 |   700/  734 batches | accuracy    0.940\n",
            "-----------------------------------------------------------\n",
            "| End of epoch  47 | Time: 18.21s | Train Accuracy    0.947 | Train Loss    0.202 | Valid Accuracy    0.638 | Valid Loss    1.592 \n",
            "-----------------------------------------------------------\n",
            "| epoch  48 |    50/  734 batches | accuracy    0.961\n",
            "| epoch  48 |   100/  734 batches | accuracy    0.940\n",
            "| epoch  48 |   150/  734 batches | accuracy    0.925\n",
            "| epoch  48 |   200/  734 batches | accuracy    0.915\n",
            "| epoch  48 |   250/  734 batches | accuracy    0.900\n",
            "| epoch  48 |   300/  734 batches | accuracy    0.905\n",
            "| epoch  48 |   350/  734 batches | accuracy    0.885\n",
            "| epoch  48 |   400/  734 batches | accuracy    0.885\n",
            "| epoch  48 |   450/  734 batches | accuracy    0.970\n",
            "| epoch  48 |   500/  734 batches | accuracy    0.920\n",
            "| epoch  48 |   550/  734 batches | accuracy    0.920\n",
            "| epoch  48 |   600/  734 batches | accuracy    0.910\n",
            "| epoch  48 |   650/  734 batches | accuracy    0.900\n",
            "| epoch  48 |   700/  734 batches | accuracy    0.930\n",
            "-----------------------------------------------------------\n",
            "| End of epoch  48 | Time: 19.06s | Train Accuracy    0.932 | Train Loss    0.236 | Valid Accuracy    0.599 | Valid Loss    1.684 \n",
            "-----------------------------------------------------------\n",
            "| epoch  49 |    50/  734 batches | accuracy    0.936\n",
            "| epoch  49 |   100/  734 batches | accuracy    0.925\n",
            "| epoch  49 |   150/  734 batches | accuracy    0.960\n",
            "| epoch  49 |   200/  734 batches | accuracy    0.945\n",
            "| epoch  49 |   250/  734 batches | accuracy    0.940\n",
            "| epoch  49 |   300/  734 batches | accuracy    0.960\n",
            "| epoch  49 |   350/  734 batches | accuracy    0.930\n",
            "| epoch  49 |   400/  734 batches | accuracy    0.935\n",
            "| epoch  49 |   450/  734 batches | accuracy    0.955\n",
            "| epoch  49 |   500/  734 batches | accuracy    0.940\n",
            "| epoch  49 |   550/  734 batches | accuracy    0.935\n",
            "| epoch  49 |   600/  734 batches | accuracy    0.905\n",
            "| epoch  49 |   650/  734 batches | accuracy    0.915\n",
            "| epoch  49 |   700/  734 batches | accuracy    0.940\n",
            "-----------------------------------------------------------\n",
            "| End of epoch  49 | Time: 18.38s | Train Accuracy    0.932 | Train Loss    0.190 | Valid Accuracy    0.613 | Valid Loss    1.830 \n",
            "-----------------------------------------------------------\n",
            "| epoch  50 |    50/  734 batches | accuracy    0.956\n",
            "| epoch  50 |   100/  734 batches | accuracy    0.970\n",
            "| epoch  50 |   150/  734 batches | accuracy    0.920\n",
            "| epoch  50 |   200/  734 batches | accuracy    0.900\n",
            "| epoch  50 |   250/  734 batches | accuracy    0.945\n",
            "| epoch  50 |   300/  734 batches | accuracy    0.910\n",
            "| epoch  50 |   350/  734 batches | accuracy    0.955\n",
            "| epoch  50 |   400/  734 batches | accuracy    0.935\n",
            "| epoch  50 |   450/  734 batches | accuracy    0.920\n",
            "| epoch  50 |   500/  734 batches | accuracy    0.950\n",
            "| epoch  50 |   550/  734 batches | accuracy    0.955\n",
            "| epoch  50 |   600/  734 batches | accuracy    0.890\n",
            "| epoch  50 |   650/  734 batches | accuracy    0.935\n",
            "| epoch  50 |   700/  734 batches | accuracy    0.905\n",
            "-----------------------------------------------------------\n",
            "| End of epoch  50 | Time: 18.13s | Train Accuracy    0.886 | Train Loss    0.205 | Valid Accuracy    0.638 | Valid Loss    1.704 \n",
            "-----------------------------------------------------------\n"
          ]
        }
      ],
      "source": [
        "image_size=224\n",
        "embed_dim = 512\n",
        "num_heads = 4\n",
        "ff_dim = 128\n",
        "dropout=0.1\n",
        "\n",
        "device = torch.device('cuda' if torch.cuda.is_available() else 'cpu')\n",
        "model = VisionTransformerCls(\n",
        "    image_size=224, embed_dim=512, num_heads=num_heads, ff_dim=ff_dim, dropout=dropout, num_classes=num_classes, device=device\n",
        ")\n",
        "model.to(device)\n",
        "\n",
        "criterion = torch.nn.CrossEntropyLoss()\n",
        "optimizer = optim.Adam(model.parameters(), lr=0.00005)\n",
        "\n",
        "num_epochs = 50\n",
        "save_model = './vit_flowers'\n",
        "os.makedirs(save_model, exist_ok = True)\n",
        "model_name = 'vit_flowers'\n",
        "\n",
        "model, metrics = train(\n",
        "    model, model_name, save_model, optimizer, criterion, train_loader, val_loader, num_epochs, device\n",
        ")"
      ]
    },
    {
      "cell_type": "code",
      "execution_count": null,
      "metadata": {
        "id": "8zsf6llWuvWT",
        "colab": {
          "base_uri": "https://localhost:8080/",
          "height": 542
        },
        "outputId": "4169573c-ecf7-4650-f14c-492d9ccfe808"
      },
      "outputs": [
        {
          "output_type": "display_data",
          "data": {
            "text/plain": [
              "<Figure size 1200x600 with 2 Axes>"
            ],
            "image/png": "[encoded data removed]"
          },
          "metadata": {}
        }
      ],
      "source": [
        "plot_result(\n",
        "    num_epochs,\n",
        "    metrics[\"train_accuracy\"],\n",
        "    metrics[\"valid_accuracy\"],\n",
        "    metrics[\"train_loss\"],\n",
        "    metrics[\"valid_loss\"]\n",
        ")"
      ]
    },
    {
      "cell_type": "code",
      "execution_count": null,
      "metadata": {
        "id": "V1kVbSOwuuRa",
        "colab": {
          "base_uri": "https://localhost:8080/"
        },
        "outputId": "abae7aa9-aed8-4393-e924-4c1f3103026c"
      },
      "outputs": [
        {
          "output_type": "execute_result",
          "data": {
            "text/plain": [
              "(0.6348773841961853, 1.821585213145464)"
            ]
          },
          "metadata": {},
          "execution_count": 84
        }
      ],
      "source": [
        "test_acc, test_loss = evaluate_epoch(model, criterion, test_loader, device)\n",
        "test_acc, test_loss"
      ]
    },
    {
      "cell_type": "markdown",
      "metadata": {
        "id": "QLq0wXM7uxim"
      },
      "source": [
        "# **2. Image Classification Vision Transformer Transfer Learning**"
      ]
    },
    {
      "cell_type": "code",
      "source": [
        "!pip install accelerate==0.20.3"
      ],
      "metadata": {
        "colab": {
          "base_uri": "https://localhost:8080/"
        },
        "id": "IC_QK0t9dbB_",
        "outputId": "5d2b41dc-0233-462d-b3e7-4d92d577aae0"
      },
      "execution_count": null,
      "outputs": [
        {
          "output_type": "stream",
          "name": "stdout",
          "text": [
            "Collecting accelerate==0.20.3\n",
            "  Downloading accelerate-0.20.3-py3-none-any.whl (227 kB)\n",
            "\u001b[2K     \u001b[90m━━━━━━━━━━━━━━━━━━━━━━━━━━━━━━━━━━━━━━━━\u001b[0m \u001b[32m227.6/227.6 kB\u001b[0m \u001b[31m1.8 MB/s\u001b[0m eta \u001b[36m0:00:00\u001b[0m\n",
            "\u001b[?25hRequirement already satisfied: numpy>=1.17 in /usr/local/lib/python3.10/dist-packages (from accelerate==0.20.3) (1.23.5)\n",
            "Requirement already satisfied: packaging>=20.0 in /usr/local/lib/python3.10/dist-packages (from accelerate==0.20.3) (23.2)\n",
            "Requirement already satisfied: psutil in /usr/local/lib/python3.10/dist-packages (from accelerate==0.20.3) (5.9.5)\n",
            "Requirement already satisfied: pyyaml in /usr/local/lib/python3.10/dist-packages (from accelerate==0.20.3) (6.0.1)\n",
            "Requirement already satisfied: torch>=1.6.0 in /usr/local/lib/python3.10/dist-packages (from accelerate==0.20.3) (2.1.0+cu118)\n",
            "Requirement already satisfied: filelock in /usr/local/lib/python3.10/dist-packages (from torch>=1.6.0->accelerate==0.20.3) (3.13.1)\n",
            "Requirement already satisfied: typing-extensions in /usr/local/lib/python3.10/dist-packages (from torch>=1.6.0->accelerate==0.20.3) (4.5.0)\n",
            "Requirement already satisfied: sympy in /usr/local/lib/python3.10/dist-packages (from torch>=1.6.0->accelerate==0.20.3) (1.12)\n",
            "Requirement already satisfied: networkx in /usr/local/lib/python3.10/dist-packages (from torch>=1.6.0->accelerate==0.20.3) (3.2.1)\n",
            "Requirement already satisfied: jinja2 in /usr/local/lib/python3.10/dist-packages (from torch>=1.6.0->accelerate==0.20.3) (3.1.2)\n",
            "Requirement already satisfied: fsspec in /usr/local/lib/python3.10/dist-packages (from torch>=1.6.0->accelerate==0.20.3) (2023.6.0)\n",
            "Requirement already satisfied: triton==2.1.0 in /usr/local/lib/python3.10/dist-packages (from torch>=1.6.0->accelerate==0.20.3) (2.1.0)\n",
            "Requirement already satisfied: MarkupSafe>=2.0 in /usr/local/lib/python3.10/dist-packages (from jinja2->torch>=1.6.0->accelerate==0.20.3) (2.1.3)\n",
            "Requirement already satisfied: mpmath>=0.19 in /usr/local/lib/python3.10/dist-packages (from sympy->torch>=1.6.0->accelerate==0.20.3) (1.3.0)\n",
            "Installing collected packages: accelerate\n",
            "  Attempting uninstall: accelerate\n",
            "    Found existing installation: accelerate 0.20.1\n",
            "    Uninstalling accelerate-0.20.1:\n",
            "      Successfully uninstalled accelerate-0.20.1\n",
            "Successfully installed accelerate-0.20.3\n"
          ]
        }
      ]
    },
    {
      "cell_type": "markdown",
      "source": [
        "### **2.1. Define the model**"
      ],
      "metadata": {
        "id": "7_4vYt5Ifrjj"
      }
    },
    {
      "cell_type": "code",
      "execution_count": null,
      "metadata": {
        "id": "lNISzB0IP2aN",
        "colab": {
          "base_uri": "https://localhost:8080/"
        },
        "outputId": "6e064fa5-db63-4019-ce3f-9389e194e066"
      },
      "outputs": [
        {
          "output_type": "stream",
          "name": "stderr",
          "text": [
            "Some weights of ViTForImageClassification were not initialized from the model checkpoint at google/vit-base-patch16-224-in21k and are newly initialized: ['classifier.bias', 'classifier.weight']\n",
            "You should probably TRAIN this model on a down-stream task to be able to use it for predictions and inference.\n"
          ]
        },
        {
          "output_type": "execute_result",
          "data": {
            "text/plain": [
              "ViTForImageClassification(\n",
              "  (vit): ViTModel(\n",
              "    (embeddings): ViTEmbeddings(\n",
              "      (patch_embeddings): ViTPatchEmbeddings(\n",
              "        (projection): Conv2d(3, 768, kernel_size=(16, 16), stride=(16, 16))\n",
              "      )\n",
              "      (dropout): Dropout(p=0.0, inplace=False)\n",
              "    )\n",
              "    (encoder): ViTEncoder(\n",
              "      (layer): ModuleList(\n",
              "        (0-11): 12 x ViTLayer(\n",
              "          (attention): ViTAttention(\n",
              "            (attention): ViTSelfAttention(\n",
              "              (query): Linear(in_features=768, out_features=768, bias=True)\n",
              "              (key): Linear(in_features=768, out_features=768, bias=True)\n",
              "              (value): Linear(in_features=768, out_features=768, bias=True)\n",
              "              (dropout): Dropout(p=0.0, inplace=False)\n",
              "            )\n",
              "            (output): ViTSelfOutput(\n",
              "              (dense): Linear(in_features=768, out_features=768, bias=True)\n",
              "              (dropout): Dropout(p=0.0, inplace=False)\n",
              "            )\n",
              "          )\n",
              "          (intermediate): ViTIntermediate(\n",
              "            (dense): Linear(in_features=768, out_features=3072, bias=True)\n",
              "            (intermediate_act_fn): GELUActivation()\n",
              "          )\n",
              "          (output): ViTOutput(\n",
              "            (dense): Linear(in_features=3072, out_features=768, bias=True)\n",
              "            (dropout): Dropout(p=0.0, inplace=False)\n",
              "          )\n",
              "          (layernorm_before): LayerNorm((768,), eps=1e-12, elementwise_affine=True)\n",
              "          (layernorm_after): LayerNorm((768,), eps=1e-12, elementwise_affine=True)\n",
              "        )\n",
              "      )\n",
              "    )\n",
              "    (layernorm): LayerNorm((768,), eps=1e-12, elementwise_affine=True)\n",
              "  )\n",
              "  (classifier): Linear(in_features=768, out_features=5, bias=True)\n",
              ")"
            ]
          },
          "metadata": {},
          "execution_count": 14
        }
      ],
      "source": [
        "from transformers import ViTForImageClassification\n",
        "\n",
        "id2label = {id:label for id, label in enumerate(classes)}\n",
        "label2id = {label:id for id,label in id2label.items()}\n",
        "\n",
        "model = ViTForImageClassification.from_pretrained(\n",
        "    'google/vit-base-patch16-224-in21k',\n",
        "    num_labels=num_classes,\n",
        "    id2label=id2label,\n",
        "    label2id=label2id\n",
        ")\n",
        "device = torch.device('cuda' if torch.cuda.is_available() else 'cpu')\n",
        "model.to(device)"
      ]
    },
    {
      "cell_type": "markdown",
      "source": [
        "### **2.2. Metric**"
      ],
      "metadata": {
        "id": "J6OBkjqHj72f"
      }
    },
    {
      "cell_type": "code",
      "source": [
        "from datasets import load_metric\n",
        "import numpy as np\n",
        "\n",
        "metric = load_metric(\"accuracy\")\n",
        "\n",
        "def compute_metrics(eval_pred):\n",
        "    predictions, labels = eval_pred\n",
        "    predictions = np.argmax(predictions, axis=1)\n",
        "    return metric.compute(predictions=predictions, references=labels)"
      ],
      "metadata": {
        "id": "4mqk3uNWeoef"
      },
      "execution_count": null,
      "outputs": []
    },
    {
      "cell_type": "markdown",
      "source": [
        "### **3.3. Trainer**"
      ],
      "metadata": {
        "id": "ceO_4f8tfxtx"
      }
    },
    {
      "cell_type": "code",
      "source": [
        "from transformers import ViTImageProcessor\n",
        "\n",
        "feature_extractor = ViTImageProcessor.from_pretrained(\"google/vit-base-patch16-224-in21k\")"
      ],
      "metadata": {
        "colab": {
          "base_uri": "https://localhost:8080/",
          "height": 49,
          "referenced_widgets": [
            "ce473e97571142af8d8e8693839a0d2f",
            "1d3fc3e404f84d3381d086b3a39eb209",
            "8300dd23c09d474682e34e87113bcdf8",
            "d53711d432ba47f38710eda91eaece2a",
            "b788951447304358bd05b7cd75f387e9",
            "6cc5db398c8047ae989c131cf08e01c8",
            "7f960ea366d449dbb2f398f4339c787d",
            "2608ead5817340f0b713dbcf43303758",
            "46aafb26734643249ee27f371a2b9954",
            "e52e94285a3a41829356e0a6b0d45f69",
            "9cd2a9b25dbd4219b5f533d425eff97f"
          ]
        },
        "id": "xYRsd3hbeu7j",
        "outputId": "01a2541c-068c-4427-b629-a2411b6f8bd5"
      },
      "execution_count": null,
      "outputs": [
        {
          "output_type": "display_data",
          "data": {
            "text/plain": [
              "preprocessor_config.json:   0%|          | 0.00/160 [00:00<?, ?B/s]"
            ],
            "application/vnd.jupyter.widget-view+json": {
              "version_major": 2,
              "version_minor": 0,
              "model_id": "ce473e97571142af8d8e8693839a0d2f"
            }
          },
          "metadata": {}
        }
      ]
    },
    {
      "cell_type": "code",
      "source": [
        "from transformers import TrainingArguments, Trainer\n",
        "\n",
        "metric_name = \"accuracy\"\n",
        "\n",
        "args = TrainingArguments(\n",
        "    f\"vit_flowers\",\n",
        "    save_strategy=\"epoch\",\n",
        "    evaluation_strategy=\"epoch\",\n",
        "    learning_rate=2e-5,\n",
        "    per_device_train_batch_size=32,\n",
        "    per_device_eval_batch_size=32,\n",
        "    num_train_epochs=10,\n",
        "    weight_decay=0.01,\n",
        "    load_best_model_at_end=True,\n",
        "    metric_for_best_model=metric_name,\n",
        "    logging_dir='logs',\n",
        "    remove_unused_columns=False,\n",
        ")"
      ],
      "metadata": {
        "id": "VG1bI7Tac7kb"
      },
      "execution_count": null,
      "outputs": []
    },
    {
      "cell_type": "code",
      "source": [
        "import torch\n",
        "\n",
        "def collate_fn(examples):\n",
        "    # example => Tuple(image, label)\n",
        "    pixel_values = torch.stack([example[0] for example in examples])\n",
        "    labels = torch.tensor([example[1] for example in examples])\n",
        "    return {\"pixel_values\": pixel_values, \"labels\": labels}\n",
        "\n",
        "\n",
        "trainer = Trainer(\n",
        "    model,\n",
        "    args,\n",
        "    train_dataset=train_dataset,\n",
        "    eval_dataset=valid_dataset,\n",
        "    data_collator=collate_fn,\n",
        "    compute_metrics=compute_metrics,\n",
        "    tokenizer=feature_extractor,\n",
        ")"
      ],
      "metadata": {
        "id": "KxsyAt5tejgi"
      },
      "execution_count": null,
      "outputs": []
    },
    {
      "cell_type": "markdown",
      "source": [
        "### **3.4. Training**"
      ],
      "metadata": {
        "id": "FtLbW5eOf1jc"
      }
    },
    {
      "cell_type": "code",
      "source": [
        "trainer.train()"
      ],
      "metadata": {
        "colab": {
          "base_uri": "https://localhost:8080/",
          "height": 424
        },
        "id": "TR_F5-zjexI6",
        "outputId": "43888636-5d7a-4f11-9db1-74b159094786"
      },
      "execution_count": null,
      "outputs": [
        {
          "output_type": "display_data",
          "data": {
            "text/plain": [
              "<IPython.core.display.HTML object>"
            ],
            "text/html": [
              "\n",
              "    <div>\n",
              "      \n",
              "      <progress value='920' max='920' style='width:300px; height:20px; vertical-align: middle;'></progress>\n",
              "      [920/920 20:22, Epoch 10/10]\n",
              "    </div>\n",
              "    <table border=\"1\" class=\"dataframe\">\n",
              "  <thead>\n",
              " <tr style=\"text-align: left;\">\n",
              "      <th>Epoch</th>\n",
              "      <th>Training Loss</th>\n",
              "      <th>Validation Loss</th>\n",
              "      <th>Accuracy</th>\n",
              "    </tr>\n",
              "  </thead>\n",
              "  <tbody>\n",
              "    <tr>\n",
              "      <td>1</td>\n",
              "      <td>No log</td>\n",
              "      <td>0.451454</td>\n",
              "      <td>0.956403</td>\n",
              "    </tr>\n",
              "    <tr>\n",
              "      <td>2</td>\n",
              "      <td>No log</td>\n",
              "      <td>0.245951</td>\n",
              "      <td>0.970027</td>\n",
              "    </tr>\n",
              "    <tr>\n",
              "      <td>3</td>\n",
              "      <td>No log</td>\n",
              "      <td>0.203870</td>\n",
              "      <td>0.964578</td>\n",
              "    </tr>\n",
              "    <tr>\n",
              "      <td>4</td>\n",
              "      <td>No log</td>\n",
              "      <td>0.173871</td>\n",
              "      <td>0.964578</td>\n",
              "    </tr>\n",
              "    <tr>\n",
              "      <td>5</td>\n",
              "      <td>No log</td>\n",
              "      <td>0.162189</td>\n",
              "      <td>0.967302</td>\n",
              "    </tr>\n",
              "    <tr>\n",
              "      <td>6</td>\n",
              "      <td>0.262600</td>\n",
              "      <td>0.166835</td>\n",
              "      <td>0.961853</td>\n",
              "    </tr>\n",
              "    <tr>\n",
              "      <td>7</td>\n",
              "      <td>0.262600</td>\n",
              "      <td>0.154129</td>\n",
              "      <td>0.967302</td>\n",
              "    </tr>\n",
              "    <tr>\n",
              "      <td>8</td>\n",
              "      <td>0.262600</td>\n",
              "      <td>0.152185</td>\n",
              "      <td>0.967302</td>\n",
              "    </tr>\n",
              "    <tr>\n",
              "      <td>9</td>\n",
              "      <td>0.262600</td>\n",
              "      <td>0.155330</td>\n",
              "      <td>0.964578</td>\n",
              "    </tr>\n",
              "    <tr>\n",
              "      <td>10</td>\n",
              "      <td>0.262600</td>\n",
              "      <td>0.152514</td>\n",
              "      <td>0.961853</td>\n",
              "    </tr>\n",
              "  </tbody>\n",
              "</table><p>"
            ]
          },
          "metadata": {}
        },
        {
          "output_type": "execute_result",
          "data": {
            "text/plain": [
              "TrainOutput(global_step=920, training_loss=0.16922692215960958, metrics={'train_runtime': 1223.6272, 'train_samples_per_second': 23.994, 'train_steps_per_second': 0.752, 'total_flos': 2.2752259898322125e+18, 'train_loss': 0.16922692215960958, 'epoch': 10.0})"
            ]
          },
          "metadata": {},
          "execution_count": 29
        }
      ]
    },
    {
      "cell_type": "code",
      "source": [
        "outputs = trainer.predict(test_dataset)"
      ],
      "metadata": {
        "colab": {
          "base_uri": "https://localhost:8080/",
          "height": 17
        },
        "id": "gL8sJ6m8fZjf",
        "outputId": "3c0ab2a2-6737-4526-844d-e433fecc1e70"
      },
      "execution_count": null,
      "outputs": [
        {
          "output_type": "display_data",
          "data": {
            "text/plain": [
              "<IPython.core.display.HTML object>"
            ],
            "text/html": []
          },
          "metadata": {}
        }
      ]
    },
    {
      "cell_type": "code",
      "source": [
        "outputs.metrics"
      ],
      "metadata": {
        "colab": {
          "base_uri": "https://localhost:8080/"
        },
        "id": "lX5PLvpmfnAp",
        "outputId": "3e25b9cf-1f37-499f-9f21-1c7a5d14574c"
      },
      "execution_count": null,
      "outputs": [
        {
          "output_type": "execute_result",
          "data": {
            "text/plain": [
              "{'test_loss': 0.2617303729057312,\n",
              " 'test_accuracy': 0.9509536784741145,\n",
              " 'test_runtime': 7.4318,\n",
              " 'test_samples_per_second': 49.382,\n",
              " 'test_steps_per_second': 1.615}"
            ]
          },
          "metadata": {},
          "execution_count": 31
        }
      ]
    }
  ],
  "metadata": {
    "colab": {
      "provenance": [],
      "include_colab_link": true
    },
    "kernelspec": {
      "display_name": "Python 3",
      "name": "python3"
    },
    "language_info": {
      "name": "python"
    },
    "widgets": {
      "application/vnd.jupyter.widget-state+json": {
        "ce473e97571142af8d8e8693839a0d2f": {
          "model_module": "@jupyter-widgets/controls",
          "model_name": "HBoxModel",
          "model_module_version": "1.5.0",
          "state": {
            "_dom_classes": [],
            "_model_module": "@jupyter-widgets/controls",
            "_model_module_version": "1.5.0",
            "_model_name": "HBoxModel",
            "_view_count": null,
            "_view_module": "@jupyter-widgets/controls",
            "_view_module_version": "1.5.0",
            "_view_name": "HBoxView",
            "box_style": "",
            "children": [
              "IPY_MODEL_1d3fc3e404f84d3381d086b3a39eb209",
              "IPY_MODEL_8300dd23c09d474682e34e87113bcdf8",
              "IPY_MODEL_d53711d432ba47f38710eda91eaece2a"
            ],
            "layout": "IPY_MODEL_b788951447304358bd05b7cd75f387e9"
          }
        },
        "1d3fc3e404f84d3381d086b3a39eb209": {
          "model_module": "@jupyter-widgets/controls",
          "model_name": "HTMLModel",
          "model_module_version": "1.5.0",
          "state": {
            "_dom_classes": [],
            "_model_module": "@jupyter-widgets/controls",
            "_model_module_version": "1.5.0",
            "_model_name": "HTMLModel",
            "_view_count": null,
            "_view_module": "@jupyter-widgets/controls",
            "_view_module_version": "1.5.0",
            "_view_name": "HTMLView",
            "description": "",
            "description_tooltip": null,
            "layout": "IPY_MODEL_6cc5db398c8047ae989c131cf08e01c8",
            "placeholder": "​",
            "style": "IPY_MODEL_7f960ea366d449dbb2f398f4339c787d",
            "value": "preprocessor_config.json: 100%"
          }
        },
        "8300dd23c09d474682e34e87113bcdf8": {
          "model_module": "@jupyter-widgets/controls",
          "model_name": "FloatProgressModel",
          "model_module_version": "1.5.0",
          "state": {
            "_dom_classes": [],
            "_model_module": "@jupyter-widgets/controls",
            "_model_module_version": "1.5.0",
            "_model_name": "FloatProgressModel",
            "_view_count": null,
            "_view_module": "@jupyter-widgets/controls",
            "_view_module_version": "1.5.0",
            "_view_name": "ProgressView",
            "bar_style": "success",
            "description": "",
            "description_tooltip": null,
            "layout": "IPY_MODEL_2608ead5817340f0b713dbcf43303758",
            "max": 160,
            "min": 0,
            "orientation": "horizontal",
            "style": "IPY_MODEL_46aafb26734643249ee27f371a2b9954",
            "value": 160
          }
        },
        "d53711d432ba47f38710eda91eaece2a": {
          "model_module": "@jupyter-widgets/controls",
          "model_name": "HTMLModel",
          "model_module_version": "1.5.0",
          "state": {
            "_dom_classes": [],
            "_model_module": "@jupyter-widgets/controls",
            "_model_module_version": "1.5.0",
            "_model_name": "HTMLModel",
            "_view_count": null,
            "_view_module": "@jupyter-widgets/controls",
            "_view_module_version": "1.5.0",
            "_view_name": "HTMLView",
            "description": "",
            "description_tooltip": null,
            "layout": "IPY_MODEL_e52e94285a3a41829356e0a6b0d45f69",
            "placeholder": "​",
            "style": "IPY_MODEL_9cd2a9b25dbd4219b5f533d425eff97f",
            "value": " 160/160 [00:00&lt;00:00, 7.72kB/s]"
          }
        },
        "b788951447304358bd05b7cd75f387e9": {
          "model_module": "@jupyter-widgets/base",
          "model_name": "LayoutModel",
          "model_module_version": "1.2.0",
          "state": {
            "_model_module": "@jupyter-widgets/base",
            "_model_module_version": "1.2.0",
            "_model_name": "LayoutModel",
            "_view_count": null,
            "_view_module": "@jupyter-widgets/base",
            "_view_module_version": "1.2.0",
            "_view_name": "LayoutView",
            "align_content": null,
            "align_items": null,
            "align_self": null,
            "border": null,
            "bottom": null,
            "display": null,
            "flex": null,
            "flex_flow": null,
            "grid_area": null,
            "grid_auto_columns": null,
            "grid_auto_flow": null,
            "grid_auto_rows": null,
            "grid_column": null,
            "grid_gap": null,
            "grid_row": null,
            "grid_template_areas": null,
            "grid_template_columns": null,
            "grid_template_rows": null,
            "height": null,
            "justify_content": null,
            "justify_items": null,
            "left": null,
            "margin": null,
            "max_height": null,
            "max_width": null,
            "min_height": null,
            "min_width": null,
            "object_fit": null,
            "object_position": null,
            "order": null,
            "overflow": null,
            "overflow_x": null,
            "overflow_y": null,
            "padding": null,
            "right": null,
            "top": null,
            "visibility": null,
            "width": null
          }
        },
        "6cc5db398c8047ae989c131cf08e01c8": {
          "model_module": "@jupyter-widgets/base",
          "model_name": "LayoutModel",
          "model_module_version": "1.2.0",
          "state": {
            "_model_module": "@jupyter-widgets/base",
            "_model_module_version": "1.2.0",
            "_model_name": "LayoutModel",
            "_view_count": null,
            "_view_module": "@jupyter-widgets/base",
            "_view_module_version": "1.2.0",
            "_view_name": "LayoutView",
            "align_content": null,
            "align_items": null,
            "align_self": null,
            "border": null,
            "bottom": null,
            "display": null,
            "flex": null,
            "flex_flow": null,
            "grid_area": null,
            "grid_auto_columns": null,
            "grid_auto_flow": null,
            "grid_auto_rows": null,
            "grid_column": null,
            "grid_gap": null,
            "grid_row": null,
            "grid_template_areas": null,
            "grid_template_columns": null,
            "grid_template_rows": null,
            "height": null,
            "justify_content": null,
            "justify_items": null,
            "left": null,
            "margin": null,
            "max_height": null,
            "max_width": null,
            "min_height": null,
            "min_width": null,
            "object_fit": null,
            "object_position": null,
            "order": null,
            "overflow": null,
            "overflow_x": null,
            "overflow_y": null,
            "padding": null,
            "right": null,
            "top": null,
            "visibility": null,
            "width": null
          }
        },
        "7f960ea366d449dbb2f398f4339c787d": {
          "model_module": "@jupyter-widgets/controls",
          "model_name": "DescriptionStyleModel",
          "model_module_version": "1.5.0",
          "state": {
            "_model_module": "@jupyter-widgets/controls",
            "_model_module_version": "1.5.0",
            "_model_name": "DescriptionStyleModel",
            "_view_count": null,
            "_view_module": "@jupyter-widgets/base",
            "_view_module_version": "1.2.0",
            "_view_name": "StyleView",
            "description_width": ""
          }
        },
        "2608ead5817340f0b713dbcf43303758": {
          "model_module": "@jupyter-widgets/base",
          "model_name": "LayoutModel",
          "model_module_version": "1.2.0",
          "state": {
            "_model_module": "@jupyter-widgets/base",
            "_model_module_version": "1.2.0",
            "_model_name": "LayoutModel",
            "_view_count": null,
            "_view_module": "@jupyter-widgets/base",
            "_view_module_version": "1.2.0",
            "_view_name": "LayoutView",
            "align_content": null,
            "align_items": null,
            "align_self": null,
            "border": null,
            "bottom": null,
            "display": null,
            "flex": null,
            "flex_flow": null,
            "grid_area": null,
            "grid_auto_columns": null,
            "grid_auto_flow": null,
            "grid_auto_rows": null,
            "grid_column": null,
            "grid_gap": null,
            "grid_row": null,
            "grid_template_areas": null,
            "grid_template_columns": null,
            "grid_template_rows": null,
            "height": null,
            "justify_content": null,
            "justify_items": null,
            "left": null,
            "margin": null,
            "max_height": null,
            "max_width": null,
            "min_height": null,
            "min_width": null,
            "object_fit": null,
            "object_position": null,
            "order": null,
            "overflow": null,
            "overflow_x": null,
            "overflow_y": null,
            "padding": null,
            "right": null,
            "top": null,
            "visibility": null,
            "width": null
          }
        },
        "46aafb26734643249ee27f371a2b9954": {
          "model_module": "@jupyter-widgets/controls",
          "model_name": "ProgressStyleModel",
          "model_module_version": "1.5.0",
          "state": {
            "_model_module": "@jupyter-widgets/controls",
            "_model_module_version": "1.5.0",
            "_model_name": "ProgressStyleModel",
            "_view_count": null,
            "_view_module": "@jupyter-widgets/base",
            "_view_module_version": "1.2.0",
            "_view_name": "StyleView",
            "bar_color": null,
            "description_width": ""
          }
        },
        "e52e94285a3a41829356e0a6b0d45f69": {
          "model_module": "@jupyter-widgets/base",
          "model_name": "LayoutModel",
          "model_module_version": "1.2.0",
          "state": {
            "_model_module": "@jupyter-widgets/base",
            "_model_module_version": "1.2.0",
            "_model_name": "LayoutModel",
            "_view_count": null,
            "_view_module": "@jupyter-widgets/base",
            "_view_module_version": "1.2.0",
            "_view_name": "LayoutView",
            "align_content": null,
            "align_items": null,
            "align_self": null,
            "border": null,
            "bottom": null,
            "display": null,
            "flex": null,
            "flex_flow": null,
            "grid_area": null,
            "grid_auto_columns": null,
            "grid_auto_flow": null,
            "grid_auto_rows": null,
            "grid_column": null,
            "grid_gap": null,
            "grid_row": null,
            "grid_template_areas": null,
            "grid_template_columns": null,
            "grid_template_rows": null,
            "height": null,
            "justify_content": null,
            "justify_items": null,
            "left": null,
            "margin": null,
            "max_height": null,
            "max_width": null,
            "min_height": null,
            "min_width": null,
            "object_fit": null,
            "object_position": null,
            "order": null,
            "overflow": null,
            "overflow_x": null,
            "overflow_y": null,
            "padding": null,
            "right": null,
            "top": null,
            "visibility": null,
            "width": null
          }
        },
        "9cd2a9b25dbd4219b5f533d425eff97f": {
          "model_module": "@jupyter-widgets/controls",
          "model_name": "DescriptionStyleModel",
          "model_module_version": "1.5.0",
          "state": {
            "_model_module": "@jupyter-widgets/controls",
            "_model_module_version": "1.5.0",
            "_model_name": "DescriptionStyleModel",
            "_view_count": null,
            "_view_module": "@jupyter-widgets/base",
            "_view_module_version": "1.2.0",
            "_view_name": "StyleView",
            "description_width": ""
          }
        }
      }
    }
  },
  "nbformat": 4,
  "nbformat_minor": 0
}